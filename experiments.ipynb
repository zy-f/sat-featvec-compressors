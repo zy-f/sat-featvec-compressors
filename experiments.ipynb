{
 "cells": [
  {
   "cell_type": "code",
   "execution_count": 1,
   "metadata": {},
   "outputs": [],
   "source": [
    "import numpy as np\n",
    "import torch\n",
    "import matplotlib.pyplot as plt\n",
    "plt.style.use('seaborn-v0_8-poster')\n",
    "from train_utils import DotDict\n",
    "from linear_modeling import default_cfg, run_training, MultiLayerMLP\n",
    "from ae_modeling import run_ae_training, MLPAutoEncoder\n",
    "from tqdm import tqdm"
   ]
  },
  {
   "cell_type": "code",
   "execution_count": 2,
   "metadata": {},
   "outputs": [],
   "source": [
    "data_path = 'data/raw/geoSSL-ucmerced.pt'\n",
    "data = torch.load(data_path)"
   ]
  },
  {
   "cell_type": "code",
   "execution_count": 5,
   "metadata": {},
   "outputs": [],
   "source": [
    "X_tr = data['train']['Z']\n",
    "y_tr = data['train']['y'].long()\n",
    "X_te = data['val']['Z']\n",
    "y_te = data['val']['y'].long()\n",
    "\n",
    "# print(X_tr.min(), X_tr.max())\n",
    "# print(X_te.min(), X_te.max())"
   ]
  },
  {
   "cell_type": "code",
   "execution_count": 6,
   "metadata": {},
   "outputs": [],
   "source": [
    "import os\n",
    "os.environ['WANDB_CONSOLE'] = 'off'"
   ]
  },
  {
   "cell_type": "code",
   "execution_count": 14,
   "metadata": {},
   "outputs": [],
   "source": [
    "cfg = DotDict(\n",
    "        features_base='geoSSL-ucmerced',\n",
    "        compress_type=None,\n",
    "        # model_type='multi_mlp',\n",
    "        n_epochs=1000,\n",
    "        lr=1e-4,\n",
    "        wd=0,#3e-5,\n",
    "        bsz=256,\n",
    "        device='cuda:0'\n",
    "    )"
   ]
  },
  {
   "cell_type": "markdown",
   "metadata": {
    "jp-MarkdownHeadingCollapsed": true,
    "tags": []
   },
   "source": [
    "# baseline stuff"
   ]
  },
  {
   "cell_type": "code",
   "execution_count": 12,
   "metadata": {},
   "outputs": [],
   "source": [
    "cfg.compress_type = 'raw'"
   ]
  },
  {
   "cell_type": "code",
   "execution_count": 13,
   "metadata": {},
   "outputs": [],
   "source": [
    "z_dim = X_tr.shape[-1]\n",
    "model = MultiLayerMLP(dims=[z_dim, 2048, 1024, 62], dropouts=[.5,.5])"
   ]
  },
  {
   "cell_type": "code",
   "execution_count": 14,
   "metadata": {
    "scrolled": true,
    "tags": []
   },
   "outputs": [
    {
     "name": "stdout",
     "output_type": "stream",
     "text": [
      "prepping for training\n",
      "starting training\n"
     ]
    },
    {
     "data": {
      "text/html": [
       "wandb version 0.13.11 is available!  To upgrade, please run:\n",
       " $ pip install wandb --upgrade"
      ],
      "text/plain": [
       "<IPython.core.display.HTML object>"
      ]
     },
     "metadata": {},
     "output_type": "display_data"
    },
    {
     "data": {
      "text/html": [
       "Tracking run with wandb version 0.13.5"
      ],
      "text/plain": [
       "<IPython.core.display.HTML object>"
      ]
     },
     "metadata": {},
     "output_type": "display_data"
    },
    {
     "data": {
      "text/html": [
       "Run data is saved locally in <code>/atlas2/u/clcp/vector_compress/wandb/run-20230313_235135-3050x8jn</code>"
      ],
      "text/plain": [
       "<IPython.core.display.HTML object>"
      ]
     },
     "metadata": {},
     "output_type": "display_data"
    },
    {
     "data": {
      "text/html": [
       "Syncing run <strong><a href=\"https://wandb.ai/cpolzak/ee269_final/runs/3050x8jn\" target=\"_blank\">fmow-baseline-mlp3-23_03_13-23_51</a></strong> to <a href=\"https://wandb.ai/cpolzak/ee269_final\" target=\"_blank\">Weights & Biases</a> (<a href=\"https://wandb.me/run\" target=\"_blank\">docs</a>)<br/>"
      ],
      "text/plain": [
       "<IPython.core.display.HTML object>"
      ]
     },
     "metadata": {},
     "output_type": "display_data"
    },
    {
     "name": "stderr",
     "output_type": "stream",
     "text": [
      "best=0.694: 16%|███████████████████▌                                                                                                         |12764/81450Exception ignored in: <function _MultiProcessingDataLoaderIter.__del__ at 0x7fd357331ee0>\n",
      "Traceback (most recent call last):\n",
      "  File \"/atlas2/u/clcp/miniconda3/envs/mae/lib/python3.9/site-packages/torch/utils/data/dataloader.py\", line 1328, in __del__\n",
      "    self._shutdown_workers()\n",
      "  File \"/atlas2/u/clcp/miniconda3/envs/mae/lib/python3.9/site-packages/torch/utils/data/dataloader.py\", line 1320, in _shutdown_workers\n",
      "    if w.is_alive():\n",
      "  File \"/atlas2/u/clcp/miniconda3/envs/mae/lib/python3.9/multiprocessing/process.py\", line 160, in is_alive\n",
      "    assert self._parent_pid == os.getpid(), 'can only test a child process'\n",
      "AssertionError: can only test a child process\n",
      "Exception ignored in: <function _MultiProcessingDataLoaderIter.__del__ at 0x7fd357331ee0>\n",
      "Traceback (most recent call last):\n",
      "  File \"/atlas2/u/clcp/miniconda3/envs/mae/lib/python3.9/site-packages/torch/utils/data/dataloader.py\", line 1328, in __del__\n",
      "    self._shutdown_workers()\n",
      "  File \"/atlas2/u/clcp/miniconda3/envs/mae/lib/python3.9/site-packages/torch/utils/data/dataloader.py\", line 1320, in _shutdown_workers\n",
      "    if w.is_alive():\n",
      "  File \"/atlas2/u/clcp/miniconda3/envs/mae/lib/python3.9/multiprocessing/process.py\", line 160, in is_alive\n",
      "    assert self._parent_pid == os.getpid(), 'can only test a child process'\n",
      "AssertionError: can only test a child process\n",
      "best=0.697: 18%|██████████████████████                                                                                                       |14381/81450Exception ignored in: <function _MultiProcessingDataLoaderIter.__del__ at 0x7fd357331ee0>\n",
      "Traceback (most recent call last):\n",
      "  File \"/atlas2/u/clcp/miniconda3/envs/mae/lib/python3.9/site-packages/torch/utils/data/dataloader.py\", line 1328, in __del__\n",
      "    self._shutdown_workers()\n",
      "  File \"/atlas2/u/clcp/miniconda3/envs/mae/lib/python3.9/site-packages/torch/utils/data/dataloader.py\", line 1320, in _shutdown_workers\n",
      "    if w.is_alive():\n",
      "  File \"/atlas2/u/clcp/miniconda3/envs/mae/lib/python3.9/multiprocessing/process.py\", line 160, in is_alive\n",
      "    assert self._parent_pid == os.getpid(), 'can only test a child process'\n",
      "AssertionError: can only test a child process\n",
      "Exception ignored in: <function _MultiProcessingDataLoaderIter.__del__ at 0x7fd357331ee0>\n",
      "Traceback (most recent call last):\n",
      "  File \"/atlas2/u/clcp/miniconda3/envs/mae/lib/python3.9/site-packages/torch/utils/data/dataloader.py\", line 1328, in __del__\n",
      "    self._shutdown_workers()\n",
      "  File \"/atlas2/u/clcp/miniconda3/envs/mae/lib/python3.9/site-packages/torch/utils/data/dataloader.py\", line 1320, in _shutdown_workers\n",
      "    if w.is_alive():\n",
      "  File \"/atlas2/u/clcp/miniconda3/envs/mae/lib/python3.9/multiprocessing/process.py\", line 160, in is_alive\n",
      "    assert self._parent_pid == os.getpid(), 'can only test a child process'\n",
      "AssertionError: can only test a child process\n",
      "best=0.699: 20%|████████████████████████▌                                                                                                    |15997/81450Exception ignored in: Exception ignored in: <function _MultiProcessingDataLoaderIter.__del__ at 0x7fd357331ee0>\n",
      "<function _MultiProcessingDataLoaderIter.__del__ at 0x7fd357331ee0>\n",
      "Traceback (most recent call last):\n",
      "  File \"/atlas2/u/clcp/miniconda3/envs/mae/lib/python3.9/site-packages/torch/utils/data/dataloader.py\", line 1328, in __del__\n",
      "  File \"/atlas2/u/clcp/miniconda3/envs/mae/lib/python3.9/site-packages/torch/utils/data/dataloader.py\", line 1328, in __del__\n",
      "Traceback (most recent call last):\n",
      "        self._shutdown_workers()\n",
      "  File \"/atlas2/u/clcp/miniconda3/envs/mae/lib/python3.9/site-packages/torch/utils/data/dataloader.py\", line 1320, in _shutdown_workers\n",
      "self._shutdown_workers()    if w.is_alive():\n",
      "  File \"/atlas2/u/clcp/miniconda3/envs/mae/lib/python3.9/site-packages/torch/utils/data/dataloader.py\", line 1320, in _shutdown_workers\n",
      "\n",
      "      File \"/atlas2/u/clcp/miniconda3/envs/mae/lib/python3.9/multiprocessing/process.py\", line 160, in is_alive\n",
      "    if w.is_alive():assert self._parent_pid == os.getpid(), 'can only test a child process'\n",
      "\n",
      "  File \"/atlas2/u/clcp/miniconda3/envs/mae/lib/python3.9/multiprocessing/process.py\", line 160, in is_alive\n",
      "AssertionError    : assert self._parent_pid == os.getpid(), 'can only test a child process'can only test a child process\n",
      "\n",
      "AssertionError: can only test a child process\n",
      "best=0.702: 22%|██████████████████████████▉                                                                                                  |17575/81450Exception ignored in: <function _MultiProcessingDataLoaderIter.__del__ at 0x7fd357331ee0>\n",
      "Traceback (most recent call last):\n",
      "  File \"/atlas2/u/clcp/miniconda3/envs/mae/lib/python3.9/site-packages/torch/utils/data/dataloader.py\", line 1328, in __del__\n",
      "    self._shutdown_workers()\n",
      "  File \"/atlas2/u/clcp/miniconda3/envs/mae/lib/python3.9/site-packages/torch/utils/data/dataloader.py\", line 1320, in _shutdown_workers\n",
      "    if w.is_alive():\n",
      "  File \"/atlas2/u/clcp/miniconda3/envs/mae/lib/python3.9/multiprocessing/process.py\", line 160, in is_alive\n",
      "    assert self._parent_pid == os.getpid(), 'can only test a child process'\n",
      "AssertionError: can only test a child process\n",
      "Exception ignored in: <function _MultiProcessingDataLoaderIter.__del__ at 0x7fd357331ee0>\n",
      "Traceback (most recent call last):\n",
      "  File \"/atlas2/u/clcp/miniconda3/envs/mae/lib/python3.9/site-packages/torch/utils/data/dataloader.py\", line 1328, in __del__\n",
      "    self._shutdown_workers()\n",
      "  File \"/atlas2/u/clcp/miniconda3/envs/mae/lib/python3.9/site-packages/torch/utils/data/dataloader.py\", line 1320, in _shutdown_workers\n",
      "    if w.is_alive():\n",
      "  File \"/atlas2/u/clcp/miniconda3/envs/mae/lib/python3.9/multiprocessing/process.py\", line 160, in is_alive\n",
      "    assert self._parent_pid == os.getpid(), 'can only test a child process'\n",
      "AssertionError: can only test a child process\n",
      "best=0.702: 24%|█████████████████████████████▍                                                                                               |19202/81450Exception ignored in: Exception ignored in: <function _MultiProcessingDataLoaderIter.__del__ at 0x7fd357331ee0><function _MultiProcessingDataLoaderIter.__del__ at 0x7fd357331ee0>\n",
      "  File \"/atlas2/u/clcp/miniconda3/envs/mae/lib/python3.9/site-packages/torch/utils/data/dataloader.py\", line 1328, in __del__\n",
      "Traceback (most recent call last):\n",
      "\n",
      "Traceback (most recent call last):\n",
      "    self._shutdown_workers()  File \"/atlas2/u/clcp/miniconda3/envs/mae/lib/python3.9/site-packages/torch/utils/data/dataloader.py\", line 1328, in __del__\n",
      "\n",
      "  File \"/atlas2/u/clcp/miniconda3/envs/mae/lib/python3.9/site-packages/torch/utils/data/dataloader.py\", line 1320, in _shutdown_workers\n",
      "        if w.is_alive():self._shutdown_workers()\n",
      "\n",
      "  File \"/atlas2/u/clcp/miniconda3/envs/mae/lib/python3.9/multiprocessing/process.py\", line 160, in is_alive\n",
      "  File \"/atlas2/u/clcp/miniconda3/envs/mae/lib/python3.9/site-packages/torch/utils/data/dataloader.py\", line 1320, in _shutdown_workers\n",
      "    assert self._parent_pid == os.getpid(), 'can only test a child process'    \n",
      "AssertionErrorif w.is_alive():: \n",
      "can only test a child process\n",
      "  File \"/atlas2/u/clcp/miniconda3/envs/mae/lib/python3.9/multiprocessing/process.py\", line 160, in is_alive\n",
      "    assert self._parent_pid == os.getpid(), 'can only test a child process'\n",
      "AssertionError: can only test a child process\n",
      "best=0.703: 26%|███████████████████████████████▉                                                                                             |20812/81450Exception ignored in: <function _MultiProcessingDataLoaderIter.__del__ at 0x7fd357331ee0>\n",
      "Traceback (most recent call last):\n",
      "  File \"/atlas2/u/clcp/miniconda3/envs/mae/lib/python3.9/site-packages/torch/utils/data/dataloader.py\", line 1328, in __del__\n",
      "    self._shutdown_workers()\n",
      "  File \"/atlas2/u/clcp/miniconda3/envs/mae/lib/python3.9/site-packages/torch/utils/data/dataloader.py\", line 1320, in _shutdown_workers\n",
      "    if w.is_alive():\n",
      "  File \"/atlas2/u/clcp/miniconda3/envs/mae/lib/python3.9/multiprocessing/process.py\", line 160, in is_alive\n",
      "    assert self._parent_pid == os.getpid(), 'can only test a child process'\n",
      "Exception ignored in: AssertionError<function _MultiProcessingDataLoaderIter.__del__ at 0x7fd357331ee0>: \n",
      "can only test a child processTraceback (most recent call last):\n",
      "  File \"/atlas2/u/clcp/miniconda3/envs/mae/lib/python3.9/site-packages/torch/utils/data/dataloader.py\", line 1328, in __del__\n",
      "\n",
      "    self._shutdown_workers()\n",
      "  File \"/atlas2/u/clcp/miniconda3/envs/mae/lib/python3.9/site-packages/torch/utils/data/dataloader.py\", line 1320, in _shutdown_workers\n",
      "    if w.is_alive():\n",
      "  File \"/atlas2/u/clcp/miniconda3/envs/mae/lib/python3.9/multiprocessing/process.py\", line 160, in is_alive\n",
      "    assert self._parent_pid == os.getpid(), 'can only test a child process'\n",
      "AssertionError: can only test a child process\n",
      "best=0.704: 27%|██████████████████████████████████▎                                                                                          |22381/81450Exception ignored in: <function _MultiProcessingDataLoaderIter.__del__ at 0x7fd357331ee0>\n",
      "Traceback (most recent call last):\n",
      "  File \"/atlas2/u/clcp/miniconda3/envs/mae/lib/python3.9/site-packages/torch/utils/data/dataloader.py\", line 1328, in __del__\n",
      "    self._shutdown_workers()\n",
      "  File \"/atlas2/u/clcp/miniconda3/envs/mae/lib/python3.9/site-packages/torch/utils/data/dataloader.py\", line 1320, in _shutdown_workers\n",
      "    if w.is_alive():\n",
      "  File \"/atlas2/u/clcp/miniconda3/envs/mae/lib/python3.9/multiprocessing/process.py\", line 160, in is_alive\n",
      "    assert self._parent_pid == os.getpid(), 'can only test a child process'\n",
      "AssertionError: can only test a child process\n",
      "Exception ignored in: <function _MultiProcessingDataLoaderIter.__del__ at 0x7fd357331ee0>\n",
      "Traceback (most recent call last):\n",
      "  File \"/atlas2/u/clcp/miniconda3/envs/mae/lib/python3.9/site-packages/torch/utils/data/dataloader.py\", line 1328, in __del__\n",
      "    self._shutdown_workers()\n",
      "best=0.704: 27%|██████████████████████████████████▎                                                                                          |22398/81450  File \"/atlas2/u/clcp/miniconda3/envs/mae/lib/python3.9/site-packages/torch/utils/data/dataloader.py\", line 1320, in _shutdown_workers\n",
      "    if w.is_alive():\n",
      "  File \"/atlas2/u/clcp/miniconda3/envs/mae/lib/python3.9/multiprocessing/process.py\", line 160, in is_alive\n",
      "    assert self._parent_pid == os.getpid(), 'can only test a child process'\n",
      "AssertionError: can only test a child process\n",
      "best=0.704: 29%|████████████████████████████████████▊                                                                                        |24013/81450Exception ignored in: <function _MultiProcessingDataLoaderIter.__del__ at 0x7fd357331ee0>\n",
      "Traceback (most recent call last):\n",
      "  File \"/atlas2/u/clcp/miniconda3/envs/mae/lib/python3.9/site-packages/torch/utils/data/dataloader.py\", line 1328, in __del__\n",
      "    Exception ignored in: self._shutdown_workers()<function _MultiProcessingDataLoaderIter.__del__ at 0x7fd357331ee0>\n",
      "  File \"/atlas2/u/clcp/miniconda3/envs/mae/lib/python3.9/site-packages/torch/utils/data/dataloader.py\", line 1320, in _shutdown_workers\n",
      "\n",
      "Traceback (most recent call last):\n",
      "  File \"/atlas2/u/clcp/miniconda3/envs/mae/lib/python3.9/site-packages/torch/utils/data/dataloader.py\", line 1328, in __del__\n",
      "    self._shutdown_workers()    \n",
      "if w.is_alive():  File \"/atlas2/u/clcp/miniconda3/envs/mae/lib/python3.9/site-packages/torch/utils/data/dataloader.py\", line 1320, in _shutdown_workers\n",
      "    \n",
      "  File \"/atlas2/u/clcp/miniconda3/envs/mae/lib/python3.9/multiprocessing/process.py\", line 160, in is_alive\n",
      "if w.is_alive():    \n",
      "assert self._parent_pid == os.getpid(), 'can only test a child process'  File \"/atlas2/u/clcp/miniconda3/envs/mae/lib/python3.9/multiprocessing/process.py\", line 160, in is_alive\n",
      "\n",
      "    AssertionError: assert self._parent_pid == os.getpid(), 'can only test a child process'\n",
      "can only test a child processAssertionError\n",
      ": can only test a child process\n",
      "best=0.705: 31%|███████████████████████████████████████▎                                                                                     |25630/81450Exception ignored in: <function _MultiProcessingDataLoaderIter.__del__ at 0x7fd357331ee0>\n",
      "Traceback (most recent call last):\n",
      "Exception ignored in: <function _MultiProcessingDataLoaderIter.__del__ at 0x7fd357331ee0>  File \"/atlas2/u/clcp/miniconda3/envs/mae/lib/python3.9/site-packages/torch/utils/data/dataloader.py\", line 1328, in __del__\n",
      "\n",
      "Traceback (most recent call last):\n",
      "      File \"/atlas2/u/clcp/miniconda3/envs/mae/lib/python3.9/site-packages/torch/utils/data/dataloader.py\", line 1328, in __del__\n",
      "self._shutdown_workers()\n",
      "      File \"/atlas2/u/clcp/miniconda3/envs/mae/lib/python3.9/site-packages/torch/utils/data/dataloader.py\", line 1320, in _shutdown_workers\n",
      "self._shutdown_workers()\n",
      "      File \"/atlas2/u/clcp/miniconda3/envs/mae/lib/python3.9/site-packages/torch/utils/data/dataloader.py\", line 1320, in _shutdown_workers\n",
      "if w.is_alive():    \n",
      "if w.is_alive():\n",
      "  File \"/atlas2/u/clcp/miniconda3/envs/mae/lib/python3.9/multiprocessing/process.py\", line 160, in is_alive\n",
      "  File \"/atlas2/u/clcp/miniconda3/envs/mae/lib/python3.9/multiprocessing/process.py\", line 160, in is_alive\n",
      "        assert self._parent_pid == os.getpid(), 'can only test a child process'assert self._parent_pid == os.getpid(), 'can only test a child process'\n",
      "\n",
      "AssertionErrorAssertionError: can only test a child process: \n",
      "can only test a child process\n",
      "best=0.705: 33%|█████████████████████████████████████████▊                                                                                   |27210/81450Exception ignored in: <function _MultiProcessingDataLoaderIter.__del__ at 0x7fd357331ee0>\n",
      "Traceback (most recent call last):\n",
      "  File \"/atlas2/u/clcp/miniconda3/envs/mae/lib/python3.9/site-packages/torch/utils/data/dataloader.py\", line 1328, in __del__\n",
      "    self._shutdown_workers()\n",
      "  File \"/atlas2/u/clcp/miniconda3/envs/mae/lib/python3.9/site-packages/torch/utils/data/dataloader.py\", line 1320, in _shutdown_workers\n",
      "    if w.is_alive():\n",
      "  File \"/atlas2/u/clcp/miniconda3/envs/mae/lib/python3.9/multiprocessing/process.py\", line 160, in is_alive\n",
      "    assert self._parent_pid == os.getpid(), 'can only test a child process'\n",
      "Exception ignored in: AssertionError<function _MultiProcessingDataLoaderIter.__del__ at 0x7fd357331ee0>: \n",
      "can only test a child processTraceback (most recent call last):\n",
      "  File \"/atlas2/u/clcp/miniconda3/envs/mae/lib/python3.9/site-packages/torch/utils/data/dataloader.py\", line 1328, in __del__\n",
      "\n",
      "    self._shutdown_workers()\n",
      "  File \"/atlas2/u/clcp/miniconda3/envs/mae/lib/python3.9/site-packages/torch/utils/data/dataloader.py\", line 1320, in _shutdown_workers\n",
      "    if w.is_alive():\n",
      "  File \"/atlas2/u/clcp/miniconda3/envs/mae/lib/python3.9/multiprocessing/process.py\", line 160, in is_alive\n",
      "    assert self._parent_pid == os.getpid(), 'can only test a child process'\n",
      "AssertionError: can only test a child process\n",
      "best=0.707: 35%|████████████████████████████████████████████▏                                                                                |28817/81450Exception ignored in: <function _MultiProcessingDataLoaderIter.__del__ at 0x7fd357331ee0>\n",
      "Traceback (most recent call last):\n",
      "  File \"/atlas2/u/clcp/miniconda3/envs/mae/lib/python3.9/site-packages/torch/utils/data/dataloader.py\", line 1328, in __del__\n",
      "    self._shutdown_workers()\n",
      "  File \"/atlas2/u/clcp/miniconda3/envs/mae/lib/python3.9/site-packages/torch/utils/data/dataloader.py\", line 1320, in _shutdown_workers\n",
      "    if w.is_alive():\n",
      "  File \"/atlas2/u/clcp/miniconda3/envs/mae/lib/python3.9/multiprocessing/process.py\", line 160, in is_alive\n",
      "    assert self._parent_pid == os.getpid(), 'can only test a child process'\n",
      "AssertionError: can only test a child process\n",
      "Exception ignored in: <function _MultiProcessingDataLoaderIter.__del__ at 0x7fd357331ee0>\n",
      "Traceback (most recent call last):\n",
      "      File \"/atlas2/u/clcp/miniconda3/envs/mae/lib/python3.9/site-packages/torch/utils/data/dataloader.py\", line 1328, in __del__\n",
      "self._shutdown_workers()\n",
      "  File \"/atlas2/u/clcp/miniconda3/envs/mae/lib/python3.9/site-packages/torch/utils/data/dataloader.py\", line 1320, in _shutdown_workers\n",
      "    if w.is_alive():\n",
      "best=0.707: 35%|████████████████████████████████████████████▎                                                                                |28835/81450  File \"/atlas2/u/clcp/miniconda3/envs/mae/lib/python3.9/multiprocessing/process.py\", line 160, in is_alive\n",
      "    assert self._parent_pid == os.getpid(), 'can only test a child process'\n",
      "AssertionError: can only test a child process\n",
      "best=0.707: 37%|██████████████████████████████████████████████▋                                                                              |30445/81450Exception ignored in: <function _MultiProcessingDataLoaderIter.__del__ at 0x7fd357331ee0>\n",
      "Traceback (most recent call last):\n",
      "  File \"/atlas2/u/clcp/miniconda3/envs/mae/lib/python3.9/site-packages/torch/utils/data/dataloader.py\", line 1328, in __del__\n",
      "    self._shutdown_workers()\n",
      "  File \"/atlas2/u/clcp/miniconda3/envs/mae/lib/python3.9/site-packages/torch/utils/data/dataloader.py\", line 1320, in _shutdown_workers\n",
      "    if w.is_alive():\n",
      "  File \"/atlas2/u/clcp/miniconda3/envs/mae/lib/python3.9/multiprocessing/process.py\", line 160, in is_alive\n",
      "    assert self._parent_pid == os.getpid(), 'can only test a child process'\n",
      "Exception ignored in: AssertionError<function _MultiProcessingDataLoaderIter.__del__ at 0x7fd357331ee0>: \n",
      "Traceback (most recent call last):\n",
      "  File \"/atlas2/u/clcp/miniconda3/envs/mae/lib/python3.9/site-packages/torch/utils/data/dataloader.py\", line 1328, in __del__\n",
      "can only test a child process    self._shutdown_workers()\n",
      "\n",
      "  File \"/atlas2/u/clcp/miniconda3/envs/mae/lib/python3.9/site-packages/torch/utils/data/dataloader.py\", line 1320, in _shutdown_workers\n",
      "    if w.is_alive():\n",
      "  File \"/atlas2/u/clcp/miniconda3/envs/mae/lib/python3.9/multiprocessing/process.py\", line 160, in is_alive\n",
      "    assert self._parent_pid == os.getpid(), 'can only test a child process'\n",
      "AssertionError: can only test a child process\n",
      "best=0.708: 39%|█████████████████████████████████████████████████▏                                                                           |32022/81450Exception ignored in: <function _MultiProcessingDataLoaderIter.__del__ at 0x7fd357331ee0>\n",
      "Traceback (most recent call last):\n",
      "  File \"/atlas2/u/clcp/miniconda3/envs/mae/lib/python3.9/site-packages/torch/utils/data/dataloader.py\", line 1328, in __del__\n",
      "    self._shutdown_workers()\n",
      "  File \"/atlas2/u/clcp/miniconda3/envs/mae/lib/python3.9/site-packages/torch/utils/data/dataloader.py\", line 1320, in _shutdown_workers\n",
      "    if w.is_alive():\n",
      "  File \"/atlas2/u/clcp/miniconda3/envs/mae/lib/python3.9/multiprocessing/process.py\", line 160, in is_alive\n",
      "    assert self._parent_pid == os.getpid(), 'can only test a child process'\n",
      "AssertionError: can only test a child process\n",
      "Exception ignored in: <function _MultiProcessingDataLoaderIter.__del__ at 0x7fd357331ee0>\n",
      "Traceback (most recent call last):\n",
      "  File \"/atlas2/u/clcp/miniconda3/envs/mae/lib/python3.9/site-packages/torch/utils/data/dataloader.py\", line 1328, in __del__\n",
      "    self._shutdown_workers()\n",
      "  File \"/atlas2/u/clcp/miniconda3/envs/mae/lib/python3.9/site-packages/torch/utils/data/dataloader.py\", line 1320, in _shutdown_workers\n",
      "    if w.is_alive():\n",
      "  File \"/atlas2/u/clcp/miniconda3/envs/mae/lib/python3.9/multiprocessing/process.py\", line 160, in is_alive\n",
      "    assert self._parent_pid == os.getpid(), 'can only test a child process'\n",
      "AssertionError: can only test a child process\n",
      "best=0.709: 41%|███████████████████████████████████████████████████▋                                                                         |33645/81450Exception ignored in: <function _MultiProcessingDataLoaderIter.__del__ at 0x7fd357331ee0>\n",
      "Traceback (most recent call last):\n",
      "  File \"/atlas2/u/clcp/miniconda3/envs/mae/lib/python3.9/site-packages/torch/utils/data/dataloader.py\", line 1328, in __del__\n",
      "    self._shutdown_workers()\n",
      "Exception ignored in:   File \"/atlas2/u/clcp/miniconda3/envs/mae/lib/python3.9/site-packages/torch/utils/data/dataloader.py\", line 1320, in _shutdown_workers\n",
      "<function _MultiProcessingDataLoaderIter.__del__ at 0x7fd357331ee0>    \n",
      "if w.is_alive():Traceback (most recent call last):\n",
      "\n",
      "  File \"/atlas2/u/clcp/miniconda3/envs/mae/lib/python3.9/site-packages/torch/utils/data/dataloader.py\", line 1328, in __del__\n",
      "  File \"/atlas2/u/clcp/miniconda3/envs/mae/lib/python3.9/multiprocessing/process.py\", line 160, in is_alive\n",
      "        assert self._parent_pid == os.getpid(), 'can only test a child process'self._shutdown_workers()\n",
      "\n",
      "AssertionError:   File \"/atlas2/u/clcp/miniconda3/envs/mae/lib/python3.9/site-packages/torch/utils/data/dataloader.py\", line 1320, in _shutdown_workers\n",
      "can only test a child process    \n",
      "if w.is_alive():\n",
      "  File \"/atlas2/u/clcp/miniconda3/envs/mae/lib/python3.9/multiprocessing/process.py\", line 160, in is_alive\n",
      "    assert self._parent_pid == os.getpid(), 'can only test a child process'\n",
      "AssertionError: can only test a child process\n",
      "best=0.709: 43%|██████████████████████████████████████████████████████▏                                                                      |35269/81450Exception ignored in: <function _MultiProcessingDataLoaderIter.__del__ at 0x7fd357331ee0>\n",
      "Traceback (most recent call last):\n",
      "  File \"/atlas2/u/clcp/miniconda3/envs/mae/lib/python3.9/site-packages/torch/utils/data/dataloader.py\", line 1328, in __del__\n",
      "    self._shutdown_workers()\n",
      "  File \"/atlas2/u/clcp/miniconda3/envs/mae/lib/python3.9/site-packages/torch/utils/data/dataloader.py\", line 1320, in _shutdown_workers\n",
      "    if w.is_alive():\n",
      "  File \"/atlas2/u/clcp/miniconda3/envs/mae/lib/python3.9/multiprocessing/process.py\", line 160, in is_alive\n",
      "    Exception ignored in: assert self._parent_pid == os.getpid(), 'can only test a child process'<function _MultiProcessingDataLoaderIter.__del__ at 0x7fd357331ee0>\n",
      "\n",
      "Traceback (most recent call last):\n",
      "  File \"/atlas2/u/clcp/miniconda3/envs/mae/lib/python3.9/site-packages/torch/utils/data/dataloader.py\", line 1328, in __del__\n",
      "    self._shutdown_workers()\n",
      "  File \"/atlas2/u/clcp/miniconda3/envs/mae/lib/python3.9/site-packages/torch/utils/data/dataloader.py\", line 1320, in _shutdown_workers\n",
      "AssertionError:     if w.is_alive():can only test a child process\n",
      "\n",
      "  File \"/atlas2/u/clcp/miniconda3/envs/mae/lib/python3.9/multiprocessing/process.py\", line 160, in is_alive\n",
      "    assert self._parent_pid == os.getpid(), 'can only test a child process'\n",
      "AssertionError: can only test a child process\n",
      "best=0.709: 45%|████████████████████████████████████████████████████████▌                                                                    |36835/81450Exception ignored in: <function _MultiProcessingDataLoaderIter.__del__ at 0x7fd357331ee0>\n",
      "Traceback (most recent call last):\n",
      "  File \"/atlas2/u/clcp/miniconda3/envs/mae/lib/python3.9/site-packages/torch/utils/data/dataloader.py\", line 1328, in __del__\n",
      "Exception ignored in:     <function _MultiProcessingDataLoaderIter.__del__ at 0x7fd357331ee0>self._shutdown_workers()\n",
      "\n",
      "Traceback (most recent call last):\n",
      "  File \"/atlas2/u/clcp/miniconda3/envs/mae/lib/python3.9/site-packages/torch/utils/data/dataloader.py\", line 1328, in __del__\n",
      "  File \"/atlas2/u/clcp/miniconda3/envs/mae/lib/python3.9/site-packages/torch/utils/data/dataloader.py\", line 1320, in _shutdown_workers\n",
      "        if w.is_alive():self._shutdown_workers()\n",
      "  File \"/atlas2/u/clcp/miniconda3/envs/mae/lib/python3.9/multiprocessing/process.py\", line 160, in is_alive\n",
      "\n",
      "    assert self._parent_pid == os.getpid(), 'can only test a child process'  File \"/atlas2/u/clcp/miniconda3/envs/mae/lib/python3.9/site-packages/torch/utils/data/dataloader.py\", line 1320, in _shutdown_workers\n",
      "\n",
      "AssertionError    : can only test a child processif w.is_alive():\n",
      "\n",
      "  File \"/atlas2/u/clcp/miniconda3/envs/mae/lib/python3.9/multiprocessing/process.py\", line 160, in is_alive\n",
      "    assert self._parent_pid == os.getpid(), 'can only test a child process'\n",
      "AssertionError: can only test a child process\n",
      "best=0.709: 47%|███████████████████████████████████████████████████████████                                                                  |38457/81450Exception ignored in: <function _MultiProcessingDataLoaderIter.__del__ at 0x7fd357331ee0>\n",
      "Traceback (most recent call last):\n",
      "  File \"/atlas2/u/clcp/miniconda3/envs/mae/lib/python3.9/site-packages/torch/utils/data/dataloader.py\", line 1328, in __del__\n",
      "    self._shutdown_workers()\n",
      "  File \"/atlas2/u/clcp/miniconda3/envs/mae/lib/python3.9/site-packages/torch/utils/data/dataloader.py\", line 1320, in _shutdown_workers\n",
      "    if w.is_alive():\n",
      "  File \"/atlas2/u/clcp/miniconda3/envs/mae/lib/python3.9/multiprocessing/process.py\", line 160, in is_alive\n",
      "    assert self._parent_pid == os.getpid(), 'can only test a child process'\n",
      "AssertionError: can only test a child process\n",
      "Exception ignored in: <function _MultiProcessingDataLoaderIter.__del__ at 0x7fd357331ee0>\n",
      "Traceback (most recent call last):\n",
      "  File \"/atlas2/u/clcp/miniconda3/envs/mae/lib/python3.9/site-packages/torch/utils/data/dataloader.py\", line 1328, in __del__\n",
      "    self._shutdown_workers()\n",
      "  File \"/atlas2/u/clcp/miniconda3/envs/mae/lib/python3.9/site-packages/torch/utils/data/dataloader.py\", line 1320, in _shutdown_workers\n",
      "    if w.is_alive():\n",
      "  File \"/atlas2/u/clcp/miniconda3/envs/mae/lib/python3.9/multiprocessing/process.py\", line 160, in is_alive\n",
      "    assert self._parent_pid == os.getpid(), 'can only test a child process'\n",
      "AssertionError: can only test a child process\n",
      "best=0.709: 49%|█████████████████████████████████████████████████████████████▍                                                               |40072/81450Exception ignored in: <function _MultiProcessingDataLoaderIter.__del__ at 0x7fd357331ee0>\n",
      "Traceback (most recent call last):\n",
      "  File \"/atlas2/u/clcp/miniconda3/envs/mae/lib/python3.9/site-packages/torch/utils/data/dataloader.py\", line 1328, in __del__\n",
      "    self._shutdown_workers()\n",
      "  File \"/atlas2/u/clcp/miniconda3/envs/mae/lib/python3.9/site-packages/torch/utils/data/dataloader.py\", line 1320, in _shutdown_workers\n",
      "    if w.is_alive():\n",
      "  File \"/atlas2/u/clcp/miniconda3/envs/mae/lib/python3.9/multiprocessing/process.py\", line 160, in is_alive\n",
      "    assert self._parent_pid == os.getpid(), 'can only test a child process'\n",
      "AssertionError: can only test a child process\n",
      "best=0.709: 49%|█████████████████████████████████████████████████████████████▌                                                               |40103/81450Exception ignored in: <function _MultiProcessingDataLoaderIter.__del__ at 0x7fd357331ee0>\n",
      "Traceback (most recent call last):\n",
      "  File \"/atlas2/u/clcp/miniconda3/envs/mae/lib/python3.9/site-packages/torch/utils/data/dataloader.py\", line 1328, in __del__\n",
      "    self._shutdown_workers()\n",
      "  File \"/atlas2/u/clcp/miniconda3/envs/mae/lib/python3.9/site-packages/torch/utils/data/dataloader.py\", line 1320, in _shutdown_workers\n",
      "    if w.is_alive():\n",
      "  File \"/atlas2/u/clcp/miniconda3/envs/mae/lib/python3.9/multiprocessing/process.py\", line 160, in is_alive\n",
      "    assert self._parent_pid == os.getpid(), 'can only test a child process'\n",
      "AssertionError: can only test a child process\n",
      "best=0.709: 51%|███████████████████████████████████████████████████████████████▉                                                             |41647/81450Exception ignored in: <function _MultiProcessingDataLoaderIter.__del__ at 0x7fd357331ee0>\n",
      "Traceback (most recent call last):\n",
      "  File \"/atlas2/u/clcp/miniconda3/envs/mae/lib/python3.9/site-packages/torch/utils/data/dataloader.py\", line 1328, in __del__\n",
      "    self._shutdown_workers()\n",
      "  File \"/atlas2/u/clcp/miniconda3/envs/mae/lib/python3.9/site-packages/torch/utils/data/dataloader.py\", line 1320, in _shutdown_workers\n",
      "    if w.is_alive():\n",
      "  File \"/atlas2/u/clcp/miniconda3/envs/mae/lib/python3.9/multiprocessing/process.py\", line 160, in is_alive\n",
      "    assert self._parent_pid == os.getpid(), 'can only test a child process'\n",
      "AssertionError: can only test a child process\n",
      "best=0.709: 51%|███████████████████████████████████████████████████████████████▉                                                             |41679/81450Exception ignored in: <function _MultiProcessingDataLoaderIter.__del__ at 0x7fd357331ee0>\n",
      "Traceback (most recent call last):\n",
      "  File \"/atlas2/u/clcp/miniconda3/envs/mae/lib/python3.9/site-packages/torch/utils/data/dataloader.py\", line 1328, in __del__\n",
      "\n",
      "    self._shutdown_workers()  File \"/atlas2/u/clcp/miniconda3/envs/mae/lib/python3.9/site-packages/torch/utils/data/dataloader.py\", line 1320, in _shutdown_workers\n",
      "    if w.is_alive():\n",
      "  File \"/atlas2/u/clcp/miniconda3/envs/mae/lib/python3.9/multiprocessing/process.py\", line 160, in is_alive\n",
      "    assert self._parent_pid == os.getpid(), 'can only test a child process'\n",
      "AssertionError: can only test a child process\n",
      "best=0.709: 53%|██████████████████████████████████████████████████████████████████▍                                                          |43265/81450Exception ignored in: <function _MultiProcessingDataLoaderIter.__del__ at 0x7fd357331ee0>\n",
      "Traceback (most recent call last):\n",
      "  File \"/atlas2/u/clcp/miniconda3/envs/mae/lib/python3.9/site-packages/torch/utils/data/dataloader.py\", line 1328, in __del__\n",
      "    self._shutdown_workers()\n",
      "  File \"/atlas2/u/clcp/miniconda3/envs/mae/lib/python3.9/site-packages/torch/utils/data/dataloader.py\", line 1320, in _shutdown_workers\n",
      "    if w.is_alive():\n",
      "  File \"/atlas2/u/clcp/miniconda3/envs/mae/lib/python3.9/multiprocessing/process.py\", line 160, in is_alive\n",
      "    assert self._parent_pid == os.getpid(), 'can only test a child process'\n",
      "AssertionError: can only test a child process\n",
      "best=0.709: 53%|██████████████████████████████████████████████████████████████████▍                                                          |43299/81450Exception ignored in: <function _MultiProcessingDataLoaderIter.__del__ at 0x7fd357331ee0>\n",
      "Traceback (most recent call last):\n",
      "  File \"/atlas2/u/clcp/miniconda3/envs/mae/lib/python3.9/site-packages/torch/utils/data/dataloader.py\", line 1328, in __del__\n",
      "    self._shutdown_workers()\n",
      "  File \"/atlas2/u/clcp/miniconda3/envs/mae/lib/python3.9/site-packages/torch/utils/data/dataloader.py\", line 1320, in _shutdown_workers\n",
      "    if w.is_alive():\n",
      "  File \"/atlas2/u/clcp/miniconda3/envs/mae/lib/python3.9/multiprocessing/process.py\", line 160, in is_alive\n",
      "    assert self._parent_pid == os.getpid(), 'can only test a child process'\n",
      "AssertionError: can only test a child process\n",
      "best=0.709: 55%|████████████████████████████████████████████████████████████████████▉                                                        |44911/81450Exception ignored in: <function _MultiProcessingDataLoaderIter.__del__ at 0x7fd357331ee0>\n",
      "Traceback (most recent call last):\n",
      "  File \"/atlas2/u/clcp/miniconda3/envs/mae/lib/python3.9/site-packages/torch/utils/data/dataloader.py\", line 1328, in __del__\n",
      "    self._shutdown_workers()\n",
      "  File \"/atlas2/u/clcp/miniconda3/envs/mae/lib/python3.9/site-packages/torch/utils/data/dataloader.py\", line 1320, in _shutdown_workers\n",
      "Exception ignored in:     if w.is_alive():<function _MultiProcessingDataLoaderIter.__del__ at 0x7fd357331ee0>\n",
      "\n",
      "  File \"/atlas2/u/clcp/miniconda3/envs/mae/lib/python3.9/multiprocessing/process.py\", line 160, in is_alive\n",
      "Traceback (most recent call last):\n",
      "      File \"/atlas2/u/clcp/miniconda3/envs/mae/lib/python3.9/site-packages/torch/utils/data/dataloader.py\", line 1328, in __del__\n",
      "assert self._parent_pid == os.getpid(), 'can only test a child process'\n",
      "    AssertionErrorself._shutdown_workers(): \n",
      "can only test a child process  File \"/atlas2/u/clcp/miniconda3/envs/mae/lib/python3.9/site-packages/torch/utils/data/dataloader.py\", line 1320, in _shutdown_workers\n",
      "\n",
      "    if w.is_alive():\n",
      "  File \"/atlas2/u/clcp/miniconda3/envs/mae/lib/python3.9/multiprocessing/process.py\", line 160, in is_alive\n",
      "    assert self._parent_pid == os.getpid(), 'can only test a child process'\n",
      "AssertionError: can only test a child process\n",
      "best=0.709: 57%|███████████████████████████████████████████████████████████████████████▎                                                     |46485/81450Exception ignored in: <function _MultiProcessingDataLoaderIter.__del__ at 0x7fd357331ee0>\n",
      "Traceback (most recent call last):\n",
      "  File \"/atlas2/u/clcp/miniconda3/envs/mae/lib/python3.9/site-packages/torch/utils/data/dataloader.py\", line 1328, in __del__\n",
      "    self._shutdown_workers()Exception ignored in: \n",
      "  File \"/atlas2/u/clcp/miniconda3/envs/mae/lib/python3.9/site-packages/torch/utils/data/dataloader.py\", line 1320, in _shutdown_workers\n",
      "<function _MultiProcessingDataLoaderIter.__del__ at 0x7fd357331ee0>    if w.is_alive():\n",
      "Traceback (most recent call last):\n",
      "\n",
      "  File \"/atlas2/u/clcp/miniconda3/envs/mae/lib/python3.9/site-packages/torch/utils/data/dataloader.py\", line 1328, in __del__\n",
      "  File \"/atlas2/u/clcp/miniconda3/envs/mae/lib/python3.9/multiprocessing/process.py\", line 160, in is_alive\n",
      "        self._shutdown_workers()\n",
      "assert self._parent_pid == os.getpid(), 'can only test a child process'\n",
      "  File \"/atlas2/u/clcp/miniconda3/envs/mae/lib/python3.9/site-packages/torch/utils/data/dataloader.py\", line 1320, in _shutdown_workers\n",
      "AssertionError:     can only test a child processif w.is_alive():\n",
      "\n",
      "  File \"/atlas2/u/clcp/miniconda3/envs/mae/lib/python3.9/multiprocessing/process.py\", line 160, in is_alive\n",
      "    assert self._parent_pid == os.getpid(), 'can only test a child process'\n",
      "AssertionError: can only test a child process\n",
      "best=0.709: 59%|█████████████████████████████████████████████████████████████████████████▊                                                   |48100/81450Exception ignored in: <function _MultiProcessingDataLoaderIter.__del__ at 0x7fd357331ee0>\n",
      "Traceback (most recent call last):\n",
      "  File \"/atlas2/u/clcp/miniconda3/envs/mae/lib/python3.9/site-packages/torch/utils/data/dataloader.py\", line 1328, in __del__\n",
      "    self._shutdown_workers()\n",
      "  File \"/atlas2/u/clcp/miniconda3/envs/mae/lib/python3.9/site-packages/torch/utils/data/dataloader.py\", line 1320, in _shutdown_workers\n",
      "    if w.is_alive():\n",
      "best=0.709: 59%|█████████████████████████████████████████████████████████████████████████▊                                                   |48118/81450  File \"/atlas2/u/clcp/miniconda3/envs/mae/lib/python3.9/multiprocessing/process.py\", line 160, in is_alive\n",
      "    assert self._parent_pid == os.getpid(), 'can only test a child process'\n",
      "AssertionError: can only test a child process\n",
      "Exception ignored in: <function _MultiProcessingDataLoaderIter.__del__ at 0x7fd357331ee0>\n",
      "Traceback (most recent call last):\n",
      "  File \"/atlas2/u/clcp/miniconda3/envs/mae/lib/python3.9/site-packages/torch/utils/data/dataloader.py\", line 1328, in __del__\n",
      "    self._shutdown_workers()\n",
      "  File \"/atlas2/u/clcp/miniconda3/envs/mae/lib/python3.9/site-packages/torch/utils/data/dataloader.py\", line 1320, in _shutdown_workers\n",
      "    if w.is_alive():\n",
      "  File \"/atlas2/u/clcp/miniconda3/envs/mae/lib/python3.9/multiprocessing/process.py\", line 160, in is_alive\n",
      "    assert self._parent_pid == os.getpid(), 'can only test a child process'\n",
      "AssertionError: can only test a child process\n",
      "best=0.709: 61%|████████████████████████████████████████████████████████████████████████████▎                                                |49737/81450Exception ignored in: <function _MultiProcessingDataLoaderIter.__del__ at 0x7fd357331ee0>\n",
      "Traceback (most recent call last):\n",
      "  File \"/atlas2/u/clcp/miniconda3/envs/mae/lib/python3.9/site-packages/torch/utils/data/dataloader.py\", line 1328, in __del__\n",
      "    self._shutdown_workers()Exception ignored in: \n",
      "<function _MultiProcessingDataLoaderIter.__del__ at 0x7fd357331ee0>  File \"/atlas2/u/clcp/miniconda3/envs/mae/lib/python3.9/site-packages/torch/utils/data/dataloader.py\", line 1320, in _shutdown_workers\n",
      "\n",
      "    Traceback (most recent call last):\n",
      "if w.is_alive():  File \"/atlas2/u/clcp/miniconda3/envs/mae/lib/python3.9/site-packages/torch/utils/data/dataloader.py\", line 1328, in __del__\n",
      "\n",
      "  File \"/atlas2/u/clcp/miniconda3/envs/mae/lib/python3.9/multiprocessing/process.py\", line 160, in is_alive\n",
      "        self._shutdown_workers()assert self._parent_pid == os.getpid(), 'can only test a child process'\n",
      "\n",
      "AssertionError  File \"/atlas2/u/clcp/miniconda3/envs/mae/lib/python3.9/site-packages/torch/utils/data/dataloader.py\", line 1320, in _shutdown_workers\n",
      ": can only test a child process\n",
      "    if w.is_alive():\n",
      "  File \"/atlas2/u/clcp/miniconda3/envs/mae/lib/python3.9/multiprocessing/process.py\", line 160, in is_alive\n",
      "    assert self._parent_pid == os.getpid(), 'can only test a child process'\n",
      "AssertionError: can only test a child process\n",
      "best=0.709: 63%|██████████████████████████████████████████████████████████████████████████████▋                                              |51305/81450Exception ignored in: <function _MultiProcessingDataLoaderIter.__del__ at 0x7fd357331ee0>\n",
      "Exception ignored in: Traceback (most recent call last):\n",
      "<function _MultiProcessingDataLoaderIter.__del__ at 0x7fd357331ee0>  File \"/atlas2/u/clcp/miniconda3/envs/mae/lib/python3.9/site-packages/torch/utils/data/dataloader.py\", line 1328, in __del__\n",
      "\n",
      "Traceback (most recent call last):\n",
      "      File \"/atlas2/u/clcp/miniconda3/envs/mae/lib/python3.9/site-packages/torch/utils/data/dataloader.py\", line 1328, in __del__\n",
      "self._shutdown_workers()\n",
      "      File \"/atlas2/u/clcp/miniconda3/envs/mae/lib/python3.9/site-packages/torch/utils/data/dataloader.py\", line 1320, in _shutdown_workers\n",
      "self._shutdown_workers()\n",
      "      File \"/atlas2/u/clcp/miniconda3/envs/mae/lib/python3.9/site-packages/torch/utils/data/dataloader.py\", line 1320, in _shutdown_workers\n",
      "if w.is_alive():\n",
      "      File \"/atlas2/u/clcp/miniconda3/envs/mae/lib/python3.9/multiprocessing/process.py\", line 160, in is_alive\n",
      "if w.is_alive():\n",
      "      File \"/atlas2/u/clcp/miniconda3/envs/mae/lib/python3.9/multiprocessing/process.py\", line 160, in is_alive\n",
      "assert self._parent_pid == os.getpid(), 'can only test a child process'    \n",
      "assert self._parent_pid == os.getpid(), 'can only test a child process'AssertionError\n",
      ": can only test a child processAssertionError\n",
      ": can only test a child process\n",
      "best=0.709: 65%|█████████████████████████████████████████████████████████████████████████████████▏                                           |52929/81450Exception ignored in: <function _MultiProcessingDataLoaderIter.__del__ at 0x7fd357331ee0>\n",
      "  File \"/atlas2/u/clcp/miniconda3/envs/mae/lib/python3.9/site-packages/torch/utils/data/dataloader.py\", line 1328, in __del__\n",
      "Traceback (most recent call last):\n",
      "    self._shutdown_workers()\n",
      "Exception ignored in:   File \"/atlas2/u/clcp/miniconda3/envs/mae/lib/python3.9/site-packages/torch/utils/data/dataloader.py\", line 1320, in _shutdown_workers\n",
      "    <function _MultiProcessingDataLoaderIter.__del__ at 0x7fd357331ee0>if w.is_alive():\n",
      "\n",
      "Traceback (most recent call last):\n",
      "  File \"/atlas2/u/clcp/miniconda3/envs/mae/lib/python3.9/multiprocessing/process.py\", line 160, in is_alive\n",
      "  File \"/atlas2/u/clcp/miniconda3/envs/mae/lib/python3.9/site-packages/torch/utils/data/dataloader.py\", line 1328, in __del__\n",
      "        assert self._parent_pid == os.getpid(), 'can only test a child process'self._shutdown_workers()\n",
      "\n",
      "AssertionError  File \"/atlas2/u/clcp/miniconda3/envs/mae/lib/python3.9/site-packages/torch/utils/data/dataloader.py\", line 1320, in _shutdown_workers\n",
      "    : if w.is_alive():\n",
      "can only test a child process  File \"/atlas2/u/clcp/miniconda3/envs/mae/lib/python3.9/multiprocessing/process.py\", line 160, in is_alive\n",
      "    \n",
      "assert self._parent_pid == os.getpid(), 'can only test a child process'\n",
      "AssertionError: can only test a child process\n",
      "best=0.709: 67%|███████████████████████████████████████████████████████████████████████████████████▋                                         |54544/81450Exception ignored in: <function _MultiProcessingDataLoaderIter.__del__ at 0x7fd357331ee0>\n",
      "Traceback (most recent call last):\n",
      "  File \"/atlas2/u/clcp/miniconda3/envs/mae/lib/python3.9/site-packages/torch/utils/data/dataloader.py\", line 1328, in __del__\n",
      "    self._shutdown_workers()\n",
      "  File \"/atlas2/u/clcp/miniconda3/envs/mae/lib/python3.9/site-packages/torch/utils/data/dataloader.py\", line 1320, in _shutdown_workers\n",
      "    if w.is_alive():\n",
      "  File \"/atlas2/u/clcp/miniconda3/envs/mae/lib/python3.9/multiprocessing/process.py\", line 160, in is_alive\n",
      "    assert self._parent_pid == os.getpid(), 'can only test a child process'\n",
      "AssertionError: can only test a child process\n",
      "Exception ignored in: <function _MultiProcessingDataLoaderIter.__del__ at 0x7fd357331ee0>\n",
      "Traceback (most recent call last):\n",
      "  File \"/atlas2/u/clcp/miniconda3/envs/mae/lib/python3.9/site-packages/torch/utils/data/dataloader.py\", line 1328, in __del__\n",
      "    self._shutdown_workers()\n",
      "  File \"/atlas2/u/clcp/miniconda3/envs/mae/lib/python3.9/site-packages/torch/utils/data/dataloader.py\", line 1320, in _shutdown_workers\n",
      "    if w.is_alive():\n",
      "  File \"/atlas2/u/clcp/miniconda3/envs/mae/lib/python3.9/multiprocessing/process.py\", line 160, in is_alive\n",
      "    assert self._parent_pid == os.getpid(), 'can only test a child process'\n",
      "AssertionError: can only test a child process\n",
      "best=0.709: 69%|██████████████████████████████████████████████████████████████████████████████████████▏                                      |56125/81450Exception ignored in: Exception ignored in: <function _MultiProcessingDataLoaderIter.__del__ at 0x7fd357331ee0><function _MultiProcessingDataLoaderIter.__del__ at 0x7fd357331ee0>\n",
      "\n",
      "Traceback (most recent call last):\n",
      "Traceback (most recent call last):\n",
      "  File \"/atlas2/u/clcp/miniconda3/envs/mae/lib/python3.9/site-packages/torch/utils/data/dataloader.py\", line 1328, in __del__\n",
      "  File \"/atlas2/u/clcp/miniconda3/envs/mae/lib/python3.9/site-packages/torch/utils/data/dataloader.py\", line 1328, in __del__\n",
      "    self._shutdown_workers()    \n",
      "self._shutdown_workers()  File \"/atlas2/u/clcp/miniconda3/envs/mae/lib/python3.9/site-packages/torch/utils/data/dataloader.py\", line 1320, in _shutdown_workers\n",
      "\n",
      "      File \"/atlas2/u/clcp/miniconda3/envs/mae/lib/python3.9/site-packages/torch/utils/data/dataloader.py\", line 1320, in _shutdown_workers\n",
      "if w.is_alive():    \n",
      "if w.is_alive():  File \"/atlas2/u/clcp/miniconda3/envs/mae/lib/python3.9/multiprocessing/process.py\", line 160, in is_alive\n",
      "\n",
      "      File \"/atlas2/u/clcp/miniconda3/envs/mae/lib/python3.9/multiprocessing/process.py\", line 160, in is_alive\n",
      "assert self._parent_pid == os.getpid(), 'can only test a child process'\n",
      "    AssertionErrorassert self._parent_pid == os.getpid(), 'can only test a child process': \n",
      "can only test a child process\n",
      "AssertionError: can only test a child process\n",
      "best=0.709: 71%|████████████████████████████████████████████████████████████████████████████████████████▌                                    |57745/81450Exception ignored in: <function _MultiProcessingDataLoaderIter.__del__ at 0x7fd357331ee0>\n",
      "Traceback (most recent call last):\n",
      "  File \"/atlas2/u/clcp/miniconda3/envs/mae/lib/python3.9/site-packages/torch/utils/data/dataloader.py\", line 1328, in __del__\n",
      "    self._shutdown_workers()\n",
      "Exception ignored in:   File \"/atlas2/u/clcp/miniconda3/envs/mae/lib/python3.9/site-packages/torch/utils/data/dataloader.py\", line 1320, in _shutdown_workers\n",
      "    <function _MultiProcessingDataLoaderIter.__del__ at 0x7fd357331ee0>if w.is_alive():\n",
      "\n",
      "Traceback (most recent call last):\n",
      "  File \"/atlas2/u/clcp/miniconda3/envs/mae/lib/python3.9/multiprocessing/process.py\", line 160, in is_alive\n",
      "  File \"/atlas2/u/clcp/miniconda3/envs/mae/lib/python3.9/site-packages/torch/utils/data/dataloader.py\", line 1328, in __del__\n",
      "    assert self._parent_pid == os.getpid(), 'can only test a child process'    \n",
      "self._shutdown_workers()AssertionError\n",
      ": can only test a child process  File \"/atlas2/u/clcp/miniconda3/envs/mae/lib/python3.9/site-packages/torch/utils/data/dataloader.py\", line 1320, in _shutdown_workers\n",
      "\n",
      "    if w.is_alive():\n",
      "  File \"/atlas2/u/clcp/miniconda3/envs/mae/lib/python3.9/multiprocessing/process.py\", line 160, in is_alive\n",
      "    assert self._parent_pid == os.getpid(), 'can only test a child process'\n",
      "AssertionError: can only test a child process\n",
      "best=0.709: 73%|███████████████████████████████████████████████████████████████████████████████████████████                                  |59362/81450Exception ignored in: <function _MultiProcessingDataLoaderIter.__del__ at 0x7fd357331ee0>\n",
      "Traceback (most recent call last):\n",
      "  File \"/atlas2/u/clcp/miniconda3/envs/mae/lib/python3.9/site-packages/torch/utils/data/dataloader.py\", line 1328, in __del__\n",
      "    self._shutdown_workers()\n",
      "  File \"/atlas2/u/clcp/miniconda3/envs/mae/lib/python3.9/site-packages/torch/utils/data/dataloader.py\", line 1320, in _shutdown_workers\n",
      "    if w.is_alive():\n",
      "  File \"/atlas2/u/clcp/miniconda3/envs/mae/lib/python3.9/multiprocessing/process.py\", line 160, in is_alive\n",
      "    assert self._parent_pid == os.getpid(), 'can only test a child process'\n",
      "AssertionError: can only test a child process\n",
      "Exception ignored in: <function _MultiProcessingDataLoaderIter.__del__ at 0x7fd357331ee0>Traceback (most recent call last):\n",
      "\n",
      "  File \"/atlas2/u/clcp/miniconda3/envs/mae/lib/python3.9/site-packages/torch/utils/data/dataloader.py\", line 1328, in __del__\n",
      "    self._shutdown_workers()\n",
      "  File \"/atlas2/u/clcp/miniconda3/envs/mae/lib/python3.9/site-packages/torch/utils/data/dataloader.py\", line 1320, in _shutdown_workers\n",
      "    if w.is_alive():\n",
      "  File \"/atlas2/u/clcp/miniconda3/envs/mae/lib/python3.9/multiprocessing/process.py\", line 160, in is_alive\n",
      "    assert self._parent_pid == os.getpid(), 'can only test a child process'\n",
      "AssertionError: can only test a child process\n",
      "best=0.709: 75%|█████████████████████████████████████████████████████████████████████████████████████████████▌                               |60937/81450Exception ignored in: <function _MultiProcessingDataLoaderIter.__del__ at 0x7fd357331ee0>\n",
      "Traceback (most recent call last):\n",
      "  File \"/atlas2/u/clcp/miniconda3/envs/mae/lib/python3.9/site-packages/torch/utils/data/dataloader.py\", line 1328, in __del__\n",
      "    self._shutdown_workers()\n",
      "  File \"/atlas2/u/clcp/miniconda3/envs/mae/lib/python3.9/site-packages/torch/utils/data/dataloader.py\", line 1320, in _shutdown_workers\n",
      "    if w.is_alive():\n",
      "  File \"/atlas2/u/clcp/miniconda3/envs/mae/lib/python3.9/multiprocessing/process.py\", line 160, in is_alive\n",
      "    assert self._parent_pid == os.getpid(), 'can only test a child process'\n",
      "AssertionError: can only test a child process\n",
      "Exception ignored in: <function _MultiProcessingDataLoaderIter.__del__ at 0x7fd357331ee0>Traceback (most recent call last):\n",
      "\n",
      "  File \"/atlas2/u/clcp/miniconda3/envs/mae/lib/python3.9/site-packages/torch/utils/data/dataloader.py\", line 1328, in __del__\n",
      "    self._shutdown_workers()\n",
      "  File \"/atlas2/u/clcp/miniconda3/envs/mae/lib/python3.9/site-packages/torch/utils/data/dataloader.py\", line 1320, in _shutdown_workers\n",
      "    if w.is_alive():\n",
      "  File \"/atlas2/u/clcp/miniconda3/envs/mae/lib/python3.9/multiprocessing/process.py\", line 160, in is_alive\n",
      "    assert self._parent_pid == os.getpid(), 'can only test a child process'\n",
      "AssertionError: can only test a child process\n",
      "best=0.709: 77%|███████████████████████████████████████████████████████████████████████████████████████████████▉                             |62548/81450Exception ignored in: <function _MultiProcessingDataLoaderIter.__del__ at 0x7fd357331ee0>Exception ignored in: \n",
      "<function _MultiProcessingDataLoaderIter.__del__ at 0x7fd357331ee0>Traceback (most recent call last):\n",
      "\n",
      "  File \"/atlas2/u/clcp/miniconda3/envs/mae/lib/python3.9/site-packages/torch/utils/data/dataloader.py\", line 1328, in __del__\n",
      "Traceback (most recent call last):\n",
      "  File \"/atlas2/u/clcp/miniconda3/envs/mae/lib/python3.9/site-packages/torch/utils/data/dataloader.py\", line 1328, in __del__\n",
      "        self._shutdown_workers()self._shutdown_workers()\n",
      "\n",
      "  File \"/atlas2/u/clcp/miniconda3/envs/mae/lib/python3.9/site-packages/torch/utils/data/dataloader.py\", line 1320, in _shutdown_workers\n",
      "  File \"/atlas2/u/clcp/miniconda3/envs/mae/lib/python3.9/site-packages/torch/utils/data/dataloader.py\", line 1320, in _shutdown_workers\n",
      "    if w.is_alive():    \n",
      "if w.is_alive():  File \"/atlas2/u/clcp/miniconda3/envs/mae/lib/python3.9/multiprocessing/process.py\", line 160, in is_alive\n",
      "    \n",
      "assert self._parent_pid == os.getpid(), 'can only test a child process'\n",
      "  File \"/atlas2/u/clcp/miniconda3/envs/mae/lib/python3.9/multiprocessing/process.py\", line 160, in is_alive\n",
      "AssertionError    : can only test a child processassert self._parent_pid == os.getpid(), 'can only test a child process'\n",
      "\n",
      "best=0.709: 77%|████████████████████████████████████████████████████████████████████████████████████████████████                             |62564/81450: can only test a child process\n",
      "best=0.709: 79%|██████████████████████████████████████████████████████████████████████████████████████████████████▍                          |64179/81450Exception ignored in: Exception ignored in: <function _MultiProcessingDataLoaderIter.__del__ at 0x7fd357331ee0><function _MultiProcessingDataLoaderIter.__del__ at 0x7fd357331ee0>\n",
      "\n",
      "Traceback (most recent call last):\n",
      "Traceback (most recent call last):\n",
      "  File \"/atlas2/u/clcp/miniconda3/envs/mae/lib/python3.9/site-packages/torch/utils/data/dataloader.py\", line 1328, in __del__\n",
      "  File \"/atlas2/u/clcp/miniconda3/envs/mae/lib/python3.9/site-packages/torch/utils/data/dataloader.py\", line 1328, in __del__\n",
      "        self._shutdown_workers()self._shutdown_workers()\n",
      "\n",
      "  File \"/atlas2/u/clcp/miniconda3/envs/mae/lib/python3.9/site-packages/torch/utils/data/dataloader.py\", line 1320, in _shutdown_workers\n",
      "  File \"/atlas2/u/clcp/miniconda3/envs/mae/lib/python3.9/site-packages/torch/utils/data/dataloader.py\", line 1320, in _shutdown_workers\n",
      "        if w.is_alive():\n",
      "if w.is_alive():  File \"/atlas2/u/clcp/miniconda3/envs/mae/lib/python3.9/multiprocessing/process.py\", line 160, in is_alive\n",
      "\n",
      "    assert self._parent_pid == os.getpid(), 'can only test a child process'  File \"/atlas2/u/clcp/miniconda3/envs/mae/lib/python3.9/multiprocessing/process.py\", line 160, in is_alive\n",
      "    \n",
      "assert self._parent_pid == os.getpid(), 'can only test a child process': \n",
      ": \n",
      "AssertionErrorcan only test a child processAssertionErrorcan only test a child process\n",
      "best=0.709: 81%|████████████████████████████████████████████████████████████████████████████████████████████████████▉                        |65752/81450Exception ignored in: <function _MultiProcessingDataLoaderIter.__del__ at 0x7fd357331ee0>Exception ignored in: \n",
      "<function _MultiProcessingDataLoaderIter.__del__ at 0x7fd357331ee0>Traceback (most recent call last):\n",
      "\n",
      "  File \"/atlas2/u/clcp/miniconda3/envs/mae/lib/python3.9/site-packages/torch/utils/data/dataloader.py\", line 1328, in __del__\n",
      "Traceback (most recent call last):\n",
      "  File \"/atlas2/u/clcp/miniconda3/envs/mae/lib/python3.9/site-packages/torch/utils/data/dataloader.py\", line 1328, in __del__\n",
      "        self._shutdown_workers()self._shutdown_workers()\n",
      "\n",
      "  File \"/atlas2/u/clcp/miniconda3/envs/mae/lib/python3.9/site-packages/torch/utils/data/dataloader.py\", line 1320, in _shutdown_workers\n",
      "  File \"/atlas2/u/clcp/miniconda3/envs/mae/lib/python3.9/site-packages/torch/utils/data/dataloader.py\", line 1320, in _shutdown_workers\n",
      "        if w.is_alive():if w.is_alive():\n",
      "\n",
      "  File \"/atlas2/u/clcp/miniconda3/envs/mae/lib/python3.9/multiprocessing/process.py\", line 160, in is_alive\n",
      "  File \"/atlas2/u/clcp/miniconda3/envs/mae/lib/python3.9/multiprocessing/process.py\", line 160, in is_alive\n",
      "        assert self._parent_pid == os.getpid(), 'can only test a child process'assert self._parent_pid == os.getpid(), 'can only test a child process'\n",
      "\n",
      "AssertionErrorAssertionError: : can only test a child processcan only test a child process\n",
      "\n",
      "best=0.709: 83%|███████████████████████████████████████████████████████████████████████████████████████████████████████▍                     |67368/81450Exception ignored in: <function _MultiProcessingDataLoaderIter.__del__ at 0x7fd357331ee0>\n",
      "Traceback (most recent call last):\n",
      "  File \"/atlas2/u/clcp/miniconda3/envs/mae/lib/python3.9/site-packages/torch/utils/data/dataloader.py\", line 1328, in __del__\n",
      "    self._shutdown_workers()\n",
      "  File \"/atlas2/u/clcp/miniconda3/envs/mae/lib/python3.9/site-packages/torch/utils/data/dataloader.py\", line 1320, in _shutdown_workers\n",
      "Exception ignored in:     <function _MultiProcessingDataLoaderIter.__del__ at 0x7fd357331ee0>if w.is_alive():\n",
      "\n",
      "Traceback (most recent call last):\n",
      "  File \"/atlas2/u/clcp/miniconda3/envs/mae/lib/python3.9/multiprocessing/process.py\", line 160, in is_alive\n",
      "  File \"/atlas2/u/clcp/miniconda3/envs/mae/lib/python3.9/site-packages/torch/utils/data/dataloader.py\", line 1328, in __del__\n",
      "    \n",
      "\n",
      "assert self._parent_pid == os.getpid(), 'can only test a child process'    self._shutdown_workers()AssertionError:   File \"/atlas2/u/clcp/miniconda3/envs/mae/lib/python3.9/site-packages/torch/utils/data/dataloader.py\", line 1320, in _shutdown_workers\n",
      "can only test a child process    \n",
      "if w.is_alive():\n",
      "  File \"/atlas2/u/clcp/miniconda3/envs/mae/lib/python3.9/multiprocessing/process.py\", line 160, in is_alive\n",
      "    assert self._parent_pid == os.getpid(), 'can only test a child process'\n",
      "AssertionError: can only test a child process\n",
      "best=0.709: 85%|█████████████████████████████████████████████████████████████████████████████████████████████████████████▊                   |68984/81450Exception ignored in: <function _MultiProcessingDataLoaderIter.__del__ at 0x7fd357331ee0>\n",
      "Traceback (most recent call last):\n",
      "  File \"/atlas2/u/clcp/miniconda3/envs/mae/lib/python3.9/site-packages/torch/utils/data/dataloader.py\", line 1328, in __del__\n",
      "    self._shutdown_workers()\n",
      "  File \"/atlas2/u/clcp/miniconda3/envs/mae/lib/python3.9/site-packages/torch/utils/data/dataloader.py\", line 1320, in _shutdown_workers\n",
      "    if w.is_alive():\n",
      "  File \"/atlas2/u/clcp/miniconda3/envs/mae/lib/python3.9/multiprocessing/process.py\", line 160, in is_alive\n",
      "    assert self._parent_pid == os.getpid(), 'can only test a child process'\n",
      "AssertionError: can only test a child process\n",
      "Exception ignored in: <function _MultiProcessingDataLoaderIter.__del__ at 0x7fd357331ee0>\n",
      "Traceback (most recent call last):\n",
      "  File \"/atlas2/u/clcp/miniconda3/envs/mae/lib/python3.9/site-packages/torch/utils/data/dataloader.py\", line 1328, in __del__\n",
      "    self._shutdown_workers()\n",
      "  File \"/atlas2/u/clcp/miniconda3/envs/mae/lib/python3.9/site-packages/torch/utils/data/dataloader.py\", line 1320, in _shutdown_workers\n",
      "    if w.is_alive():\n",
      "  File \"/atlas2/u/clcp/miniconda3/envs/mae/lib/python3.9/multiprocessing/process.py\", line 160, in is_alive\n",
      "    assert self._parent_pid == os.getpid(), 'can only test a child process'\n",
      "AssertionError: can only test a child process\n",
      "best=0.709: 87%|████████████████████████████████████████████████████████████████████████████████████████████████████████████▎                |70560/81450Exception ignored in: Exception ignored in: <function _MultiProcessingDataLoaderIter.__del__ at 0x7fd357331ee0><function _MultiProcessingDataLoaderIter.__del__ at 0x7fd357331ee0>\n",
      "\n",
      "Traceback (most recent call last):\n",
      "  File \"/atlas2/u/clcp/miniconda3/envs/mae/lib/python3.9/site-packages/torch/utils/data/dataloader.py\", line 1328, in __del__\n",
      "Traceback (most recent call last):\n",
      "  File \"/atlas2/u/clcp/miniconda3/envs/mae/lib/python3.9/site-packages/torch/utils/data/dataloader.py\", line 1328, in __del__\n",
      "    self._shutdown_workers()\n",
      "      File \"/atlas2/u/clcp/miniconda3/envs/mae/lib/python3.9/site-packages/torch/utils/data/dataloader.py\", line 1320, in _shutdown_workers\n",
      "self._shutdown_workers()    if w.is_alive():\n",
      "\n",
      "  File \"/atlas2/u/clcp/miniconda3/envs/mae/lib/python3.9/multiprocessing/process.py\", line 160, in is_alive\n",
      "    assert self._parent_pid == os.getpid(), 'can only test a child process'\n",
      "AssertionError: can only test a child process\n",
      "  File \"/atlas2/u/clcp/miniconda3/envs/mae/lib/python3.9/site-packages/torch/utils/data/dataloader.py\", line 1320, in _shutdown_workers\n",
      "    if w.is_alive():\n",
      "  File \"/atlas2/u/clcp/miniconda3/envs/mae/lib/python3.9/multiprocessing/process.py\", line 160, in is_alive\n",
      "    assert self._parent_pid == os.getpid(), 'can only test a child process'\n",
      "AssertionError: can only test a child process\n",
      "best=0.709: 89%|██████████████████████████████████████████████████████████████████████████████████████████████████████████████▊              |72188/81450Exception ignored in: Exception ignored in: <function _MultiProcessingDataLoaderIter.__del__ at 0x7fd357331ee0><function _MultiProcessingDataLoaderIter.__del__ at 0x7fd357331ee0>\n",
      "\n",
      "Traceback (most recent call last):\n",
      "Traceback (most recent call last):\n",
      "  File \"/atlas2/u/clcp/miniconda3/envs/mae/lib/python3.9/site-packages/torch/utils/data/dataloader.py\", line 1328, in __del__\n",
      "  File \"/atlas2/u/clcp/miniconda3/envs/mae/lib/python3.9/site-packages/torch/utils/data/dataloader.py\", line 1328, in __del__\n",
      "        self._shutdown_workers()self._shutdown_workers()\n",
      "\n",
      "  File \"/atlas2/u/clcp/miniconda3/envs/mae/lib/python3.9/site-packages/torch/utils/data/dataloader.py\", line 1320, in _shutdown_workers\n",
      "  File \"/atlas2/u/clcp/miniconda3/envs/mae/lib/python3.9/site-packages/torch/utils/data/dataloader.py\", line 1320, in _shutdown_workers\n",
      "        if w.is_alive():if w.is_alive():\n",
      "\n",
      "  File \"/atlas2/u/clcp/miniconda3/envs/mae/lib/python3.9/multiprocessing/process.py\", line 160, in is_alive\n",
      "  File \"/atlas2/u/clcp/miniconda3/envs/mae/lib/python3.9/multiprocessing/process.py\", line 160, in is_alive\n",
      "        assert self._parent_pid == os.getpid(), 'can only test a child process'assert self._parent_pid == os.getpid(), 'can only test a child process'\n",
      "\n",
      "AssertionErrorAssertionError: : can only test a child processcan only test a child process\n",
      "\n",
      "best=0.709: 91%|█████████████████████████████████████████████████████████████████████████████████████████████████████████████████▎           |73796/81450Exception ignored in: <function _MultiProcessingDataLoaderIter.__del__ at 0x7fd357331ee0>\n",
      "Traceback (most recent call last):\n",
      "  File \"/atlas2/u/clcp/miniconda3/envs/mae/lib/python3.9/site-packages/torch/utils/data/dataloader.py\", line 1328, in __del__\n",
      "    self._shutdown_workers()\n",
      "  File \"/atlas2/u/clcp/miniconda3/envs/mae/lib/python3.9/site-packages/torch/utils/data/dataloader.py\", line 1320, in _shutdown_workers\n",
      "    if w.is_alive():\n",
      "  File \"/atlas2/u/clcp/miniconda3/envs/mae/lib/python3.9/multiprocessing/process.py\", line 160, in is_alive\n",
      "best=0.709: 91%|█████████████████████████████████████████████████████████████████████████████████████████████████████████████████▎           |73814/81450    assert self._parent_pid == os.getpid(), 'can only test a child process'\n",
      "AssertionError: can only test a child process\n",
      "Exception ignored in: <function _MultiProcessingDataLoaderIter.__del__ at 0x7fd357331ee0>\n",
      "Traceback (most recent call last):\n",
      "  File \"/atlas2/u/clcp/miniconda3/envs/mae/lib/python3.9/site-packages/torch/utils/data/dataloader.py\", line 1328, in __del__\n",
      "    self._shutdown_workers()\n",
      "  File \"/atlas2/u/clcp/miniconda3/envs/mae/lib/python3.9/site-packages/torch/utils/data/dataloader.py\", line 1320, in _shutdown_workers\n",
      "    if w.is_alive():\n",
      "  File \"/atlas2/u/clcp/miniconda3/envs/mae/lib/python3.9/multiprocessing/process.py\", line 160, in is_alive\n",
      "    assert self._parent_pid == os.getpid(), 'can only test a child process'\n",
      "AssertionError: can only test a child process\n",
      "best=0.709: 93%|███████████████████████████████████████████████████████████████████████████████████████████████████████████████████▋         |75375/81450Exception ignored in: <function _MultiProcessingDataLoaderIter.__del__ at 0x7fd357331ee0>\n",
      "Traceback (most recent call last):\n",
      "  File \"/atlas2/u/clcp/miniconda3/envs/mae/lib/python3.9/site-packages/torch/utils/data/dataloader.py\", line 1328, in __del__\n",
      "    self._shutdown_workers()\n",
      "  File \"/atlas2/u/clcp/miniconda3/envs/mae/lib/python3.9/site-packages/torch/utils/data/dataloader.py\", line 1320, in _shutdown_workers\n",
      "    if w.is_alive():\n",
      "  File \"/atlas2/u/clcp/miniconda3/envs/mae/lib/python3.9/multiprocessing/process.py\", line 160, in is_alive\n",
      "    assert self._parent_pid == os.getpid(), 'can only test a child process'\n",
      "AssertionError: Exception ignored in: can only test a child process<function _MultiProcessingDataLoaderIter.__del__ at 0x7fd357331ee0>\n",
      "\n",
      "Traceback (most recent call last):\n",
      "  File \"/atlas2/u/clcp/miniconda3/envs/mae/lib/python3.9/site-packages/torch/utils/data/dataloader.py\", line 1328, in __del__\n",
      "    self._shutdown_workers()\n",
      "  File \"/atlas2/u/clcp/miniconda3/envs/mae/lib/python3.9/site-packages/torch/utils/data/dataloader.py\", line 1320, in _shutdown_workers\n",
      "    if w.is_alive():\n",
      "  File \"/atlas2/u/clcp/miniconda3/envs/mae/lib/python3.9/multiprocessing/process.py\", line 160, in is_alive\n",
      "    assert self._parent_pid == os.getpid(), 'can only test a child process'\n",
      "AssertionError: can only test a child process\n",
      "best=0.709: 95%|██████████████████████████████████████████████████████████████████████████████████████████████████████████████████████▏      |77005/81450Exception ignored in: <function _MultiProcessingDataLoaderIter.__del__ at 0x7fd357331ee0>\n",
      "Traceback (most recent call last):\n",
      "  File \"/atlas2/u/clcp/miniconda3/envs/mae/lib/python3.9/site-packages/torch/utils/data/dataloader.py\", line 1328, in __del__\n",
      "    self._shutdown_workers()\n",
      "  File \"/atlas2/u/clcp/miniconda3/envs/mae/lib/python3.9/site-packages/torch/utils/data/dataloader.py\", line 1320, in _shutdown_workers\n",
      "    if w.is_alive():\n",
      "  File \"/atlas2/u/clcp/miniconda3/envs/mae/lib/python3.9/multiprocessing/process.py\", line 160, in is_alive\n",
      "    assert self._parent_pid == os.getpid(), 'can only test a child process'\n",
      "AssertionError: can only test a child process\n",
      "Exception ignored in: <function _MultiProcessingDataLoaderIter.__del__ at 0x7fd357331ee0>\n",
      "Traceback (most recent call last):\n",
      "  File \"/atlas2/u/clcp/miniconda3/envs/mae/lib/python3.9/site-packages/torch/utils/data/dataloader.py\", line 1328, in __del__\n",
      "    self._shutdown_workers()\n",
      "  File \"/atlas2/u/clcp/miniconda3/envs/mae/lib/python3.9/site-packages/torch/utils/data/dataloader.py\", line 1320, in _shutdown_workers\n",
      "    if w.is_alive():\n",
      "  File \"/atlas2/u/clcp/miniconda3/envs/mae/lib/python3.9/multiprocessing/process.py\", line 160, in is_alive\n",
      "    assert self._parent_pid == os.getpid(), 'can only test a child process'\n",
      "AssertionError: can only test a child process\n",
      "best=0.709: 97%|████████████████████████████████████████████████████████████████████████████████████████████████████████████████████████▋    |78614/81450Exception ignored in: <function _MultiProcessingDataLoaderIter.__del__ at 0x7fd357331ee0>\n",
      "Traceback (most recent call last):\n",
      "  File \"/atlas2/u/clcp/miniconda3/envs/mae/lib/python3.9/site-packages/torch/utils/data/dataloader.py\", line 1328, in __del__\n",
      "    self._shutdown_workers()\n",
      "  File \"/atlas2/u/clcp/miniconda3/envs/mae/lib/python3.9/site-packages/torch/utils/data/dataloader.py\", line 1320, in _shutdown_workers\n",
      "    if w.is_alive():\n",
      "  File \"/atlas2/u/clcp/miniconda3/envs/mae/lib/python3.9/multiprocessing/process.py\", line 160, in is_alive\n",
      "    assert self._parent_pid == os.getpid(), 'can only test a child process'\n",
      "AssertionError: can only test a child process\n",
      "Exception ignored in: <function _MultiProcessingDataLoaderIter.__del__ at 0x7fd357331ee0>\n",
      "Traceback (most recent call last):\n",
      "  File \"/atlas2/u/clcp/miniconda3/envs/mae/lib/python3.9/site-packages/torch/utils/data/dataloader.py\", line 1328, in __del__\n",
      "    self._shutdown_workers()\n",
      "  File \"/atlas2/u/clcp/miniconda3/envs/mae/lib/python3.9/site-packages/torch/utils/data/dataloader.py\", line 1320, in _shutdown_workers\n",
      "    if w.is_alive():\n",
      "  File \"/atlas2/u/clcp/miniconda3/envs/mae/lib/python3.9/multiprocessing/process.py\", line 160, in is_alive\n",
      "    assert self._parent_pid == os.getpid(), 'can only test a child process'\n",
      "AssertionError: can only test a child process\n",
      "best=0.709: 98%|███████████████████████████████████████████████████████████████████████████████████████████████████████████████████████████  |80200/81450Exception ignored in: <function _MultiProcessingDataLoaderIter.__del__ at 0x7fd357331ee0>\n",
      "Traceback (most recent call last):\n",
      "  File \"/atlas2/u/clcp/miniconda3/envs/mae/lib/python3.9/site-packages/torch/utils/data/dataloader.py\", line 1328, in __del__\n",
      "    self._shutdown_workers()\n",
      "  File \"/atlas2/u/clcp/miniconda3/envs/mae/lib/python3.9/site-packages/torch/utils/data/dataloader.py\", line 1320, in _shutdown_workers\n",
      "    if w.is_alive():\n",
      "  File \"/atlas2/u/clcp/miniconda3/envs/mae/lib/python3.9/multiprocessing/process.py\", line 160, in is_alive\n",
      "    assert self._parent_pid == os.getpid(), 'can only test a child process'\n",
      "AssertionError: can only test a child process\n",
      "best=0.709: 98%|███████████████████████████████████████████████████████████████████████████████████████████████████████████████████████████  |80219/81450Exception ignored in: <function _MultiProcessingDataLoaderIter.__del__ at 0x7fd357331ee0>\n",
      "Traceback (most recent call last):\n",
      "  File \"/atlas2/u/clcp/miniconda3/envs/mae/lib/python3.9/site-packages/torch/utils/data/dataloader.py\", line 1328, in __del__\n",
      "    self._shutdown_workers()\n",
      "  File \"/atlas2/u/clcp/miniconda3/envs/mae/lib/python3.9/site-packages/torch/utils/data/dataloader.py\", line 1320, in _shutdown_workers\n",
      "    if w.is_alive():\n",
      "  File \"/atlas2/u/clcp/miniconda3/envs/mae/lib/python3.9/multiprocessing/process.py\", line 160, in is_alive\n",
      "    assert self._parent_pid == os.getpid(), 'can only test a child process'\n",
      "AssertionError: can only test a child process\n",
      "best=0.709: 100%|████████████████████████████████████████████████████████████████████████████████████████████████████████████████████████████|81450/81450\n"
     ]
    },
    {
     "data": {
      "text/html": [
       "Waiting for W&B process to finish... <strong style=\"color:green\">(success).</strong>"
      ],
      "text/plain": [
       "<IPython.core.display.HTML object>"
      ]
     },
     "metadata": {},
     "output_type": "display_data"
    },
    {
     "data": {
      "text/html": [
       "<style>\n",
       "    table.wandb td:nth-child(1) { padding: 0 10px; text-align: left ; width: auto;} td:nth-child(2) {text-align: left ; width: 100%}\n",
       "    .wandb-row { display: flex; flex-direction: row; flex-wrap: wrap; justify-content: flex-start; width: 100% }\n",
       "    .wandb-col { display: flex; flex-direction: column; flex-basis: 100%; flex: 1; padding: 10px; }\n",
       "    </style>\n",
       "<div class=\"wandb-row\"><div class=\"wandb-col\"><h3>Run history:</h3><br/><table class=\"wandb\"><tr><td>best_val acc</td><td>▁</td></tr><tr><td>train acc</td><td>▁▃▄▄▄▄▅▅▅▅▅▅▆▆▆▆▆▆▆▇▇▇▇▇▇▇▇▇▇▇██████████</td></tr><tr><td>train loss</td><td>█▆▅▅▄▄▄▄▄▄▃▃▃▃▃▃▃▂▂▂▂▂▂▂▂▂▂▂▂▁▁▁▁▁▁▁▁▁▁▁</td></tr><tr><td>val acc</td><td>▁▄▅▆▆▇▇▇▇▇█████████████████████▇████▇███</td></tr><tr><td>val loss</td><td>▆▄▃▂▂▂▁▁▁▁▁▁▁▁▁▂▂▂▂▂▃▃▃▃▄▄▄▅▅▅▅▆▆▆▆▇▇▇▇█</td></tr></table><br/></div><div class=\"wandb-col\"><h3>Run summary:</h3><br/><table class=\"wandb\"><tr><td>best_val acc</td><td>0.70882</td></tr><tr><td>train acc</td><td>0.93902</td></tr><tr><td>train loss</td><td>0.19571</td></tr><tr><td>val acc</td><td>0.70517</td></tr><tr><td>val loss</td><td>1.37108</td></tr></table><br/></div></div>"
      ],
      "text/plain": [
       "<IPython.core.display.HTML object>"
      ]
     },
     "metadata": {},
     "output_type": "display_data"
    },
    {
     "data": {
      "text/html": [
       "Synced <strong style=\"color:#cdcd00\">fmow-baseline-mlp3-23_03_13-23_51</strong>: <a href=\"https://wandb.ai/cpolzak/ee269_final/runs/3050x8jn\" target=\"_blank\">https://wandb.ai/cpolzak/ee269_final/runs/3050x8jn</a><br/>Synced 6 W&B file(s), 0 media file(s), 0 artifact file(s) and 0 other file(s)"
      ],
      "text/plain": [
       "<IPython.core.display.HTML object>"
      ]
     },
     "metadata": {},
     "output_type": "display_data"
    },
    {
     "data": {
      "text/html": [
       "Find logs at: <code>./wandb/run-20230313_235135-3050x8jn/logs</code>"
      ],
      "text/plain": [
       "<IPython.core.display.HTML object>"
      ]
     },
     "metadata": {},
     "output_type": "display_data"
    }
   ],
   "source": [
    "run_name = 'fmow-baseline-mlp3'\n",
    "run_training(X_tr, y_tr, X_te, y_te, run_name=run_name, cfg=cfg, model=model)"
   ]
  },
  {
   "cell_type": "markdown",
   "metadata": {
    "tags": []
   },
   "source": [
    "# Eig projections"
   ]
  },
  {
   "cell_type": "code",
   "execution_count": 10,
   "metadata": {
    "tags": []
   },
   "outputs": [],
   "source": [
    "def get_eigs(X):\n",
    "    mu = X.mean(dim=0)\n",
    "    X = X - mu\n",
    "    cov = X.T @ X\n",
    "    cov /= (len(X) - 1)\n",
    "    e_vals, e_vecs = map(torch.real, torch.linalg.eig(cov))\n",
    "    sort_order = torch.argsort(-e_vals)\n",
    "    e_vals = e_vals[sort_order]\n",
    "    e_vecs = e_vecs[:, sort_order]\n",
    "    return e_vals, e_vecs\n",
    "    \n",
    "def eig_compress(X, U=None, proj_size=100):\n",
    "    if U is None:\n",
    "        _, U = get_eigs(X)\n",
    "        U_trunc = U[:, :proj_size]\n",
    "    else:\n",
    "        U_trunc = U\n",
    "    X_proj = X @ U_trunc\n",
    "    return X_proj, U_trunc\n",
    "\n",
    "def eig_decompress(X_proj, U):\n",
    "    return X_proj @ U.T"
   ]
  },
  {
   "cell_type": "code",
   "execution_count": 12,
   "metadata": {},
   "outputs": [],
   "source": [
    "proj_sizes = [200] # range(100, 201, 25) #[10, 30, 100, 300, 1000]"
   ]
  },
  {
   "cell_type": "markdown",
   "metadata": {
    "jp-MarkdownHeadingCollapsed": true,
    "tags": []
   },
   "source": [
    "## get projections"
   ]
  },
  {
   "cell_type": "code",
   "execution_count": 21,
   "metadata": {},
   "outputs": [],
   "source": [
    "e_vals, e_vecs = get_eigs(X_tr)"
   ]
  },
  {
   "cell_type": "code",
   "execution_count": 23,
   "metadata": {},
   "outputs": [
    {
     "data": {
      "image/png": "[encoded data removed]",
      "text/plain": [
       "<Figure size 1280x880 with 3 Axes>"
      ]
     },
     "metadata": {},
     "output_type": "display_data"
    }
   ],
   "source": [
    "fig, ax = plt.subplots(3)\n",
    "ax[0].plot(e_vals[:10])\n",
    "ax[1].plot(e_vals[10:100])\n",
    "ax[2].plot(e_vals[100:1000])\n",
    "plt.show()"
   ]
  },
  {
   "cell_type": "code",
   "execution_count": 11,
   "metadata": {},
   "outputs": [],
   "source": [
    "# projectors = {}\n",
    "# for psz in proj_sizes:\n",
    "#     save_name = f'geoSSL-fmow-center_eig_proj'\n",
    "#     data = torch.load(f'data/comp/{save_name}{psz}.pt')\n",
    "#     projectors[f'{save_name}{psz}'] = data['U']\n",
    "# for psz in [10, 30, 100, 300, 1000]:\n",
    "#     name = f'geoSSL-fmow-eig_proj{psz}'\n",
    "#     data = torch.load(f'data/comp/{name}.pt')\n",
    "#     projectors[name] = data['U']"
   ]
  },
  {
   "cell_type": "code",
   "execution_count": 12,
   "metadata": {},
   "outputs": [],
   "source": [
    "# for k,v in projectors.items():\n",
    "#     torch.save(v,f\"compress_models/{k}.pt\")"
   ]
  },
  {
   "cell_type": "code",
   "execution_count": 25,
   "metadata": {},
   "outputs": [
    {
     "name": "stdout",
     "output_type": "stream",
     "text": [
      "saving proj_size 75...\n",
      "proj_size 75 done\n",
      "saving proj_size 100...\n",
      "proj_size 100 done\n",
      "saving proj_size 125...\n",
      "proj_size 125 done\n",
      "saving proj_size 150...\n",
      "proj_size 150 done\n",
      "saving proj_size 175...\n",
      "proj_size 175 done\n",
      "saving proj_size 200...\n",
      "proj_size 200 done\n"
     ]
    },
    {
     "data": {
      "image/png": "[encoded data removed]",
      "text/plain": [
       "<Figure size 1280x880 with 1 Axes>"
      ]
     },
     "metadata": {},
     "output_type": "display_data"
    }
   ],
   "source": [
    "train_errors = []\n",
    "test_errors = []\n",
    "save_name = f'geoSSL-fmow-center_eig_proj'\n",
    "tr_size = X_tr.abs().mean()\n",
    "te_size = X_te.abs().mean()\n",
    "for psz in proj_sizes:\n",
    "    X_tr_proj, U_trunc = eig_compress(X_tr, U=e_vecs, proj_size=psz)\n",
    "    X_te_proj, _ = eig_compress(X_te, U=e_vecs, proj_size=psz)\n",
    "    \n",
    "    X_tr_approx = eig_decompress(X_tr_proj, U_trunc)\n",
    "    X_te_approx = eig_decompress(X_te_proj, U_trunc)\n",
    "    \n",
    "    print(f'saving proj_size {psz}...')\n",
    "    comp_data = {\n",
    "        'train':{\n",
    "            'Z': X_tr_proj,\n",
    "            'y': y_tr\n",
    "        },\n",
    "        'test': {\n",
    "            'Z': X_te_proj,\n",
    "            'y': y_te\n",
    "        },\n",
    "        'U': U_trunc\n",
    "    }\n",
    "    torch.save(comp_data, f'data/comp/{save_name}{psz}.pt') # saving for filesize purposes\n",
    "    \n",
    "    tr_err = (X_tr - X_tr_approx).abs().mean()\n",
    "    train_errors.append(tr_err/tr_size)\n",
    "    te_err = (X_te - X_te_approx).abs().mean()\n",
    "\n",
    "    test_errors.append(te_err/te_size)\n",
    "    print(f'proj_size {psz} done')\n",
    "fig, ax = plt.subplots()\n",
    "ax.plot(proj_sizes, train_errors, label='train')\n",
    "ax.plot(proj_sizes, test_errors, label='test')\n",
    "ax.legend()\n",
    "ax.set_title('average elementwise reconstruction error as pct of element size')\n",
    "plt.show()"
   ]
  },
  {
   "cell_type": "markdown",
   "metadata": {},
   "source": [
    "### generalizing to other datasets"
   ]
  },
  {
   "cell_type": "code",
   "execution_count": 29,
   "metadata": {},
   "outputs": [
    {
     "name": "stderr",
     "output_type": "stream",
     "text": [
      "100%|██████████████████████████████████████████████████████████████████████████████████████████████████████████████████████| 6/6 [00:00<00:00, 32.48it/s]\n"
     ]
    }
   ],
   "source": [
    "save_name = f'geoSSL-ucmerced-center_eig_proj'\n",
    "for psz in tqdm(proj_sizes):\n",
    "    load_name = f'geoSSL-fmow-center_eig_proj{psz}'\n",
    "    U = torch.load(f\"compress_models/{load_name}.pt\")\n",
    "    X_tr_proj, _ = eig_compress(X_tr, U=U)\n",
    "    X_te_proj, _ = eig_compress(X_te, U=U)\n",
    "    comp_data = {\n",
    "        'train':{\n",
    "            'Z': X_tr_proj,\n",
    "            'y': y_tr\n",
    "        },\n",
    "        'test': {\n",
    "            'Z': X_te_proj,\n",
    "            'y': y_te\n",
    "        }\n",
    "    }\n",
    "    torch.save(comp_data, f'data/comp/{save_name}{psz}.pt') # saving for filesize purposes"
   ]
  },
  {
   "cell_type": "markdown",
   "metadata": {
    "tags": []
   },
   "source": [
    "## training on projected approximations"
   ]
  },
  {
   "cell_type": "code",
   "execution_count": 11,
   "metadata": {},
   "outputs": [],
   "source": [
    "cfg.compress_type = 'center_eig_proj'"
   ]
  },
  {
   "cell_type": "code",
   "execution_count": 13,
   "metadata": {
    "scrolled": true,
    "tags": []
   },
   "outputs": [
    {
     "name": "stdout",
     "output_type": "stream",
     "text": [
      "prepping for training\n",
      "starting training\n"
     ]
    },
    {
     "name": "stderr",
     "output_type": "stream",
     "text": [
      "\u001b[34m\u001b[1mwandb\u001b[0m: Currently logged in as: \u001b[33mcpolzak\u001b[0m. Use \u001b[1m`wandb login --relogin`\u001b[0m to force relogin\n"
     ]
    },
    {
     "data": {
      "text/html": [
       "wandb version 0.14.0 is available!  To upgrade, please run:\n",
       " $ pip install wandb --upgrade"
      ],
      "text/plain": [
       "<IPython.core.display.HTML object>"
      ]
     },
     "metadata": {},
     "output_type": "display_data"
    },
    {
     "data": {
      "text/html": [
       "Tracking run with wandb version 0.13.5"
      ],
      "text/plain": [
       "<IPython.core.display.HTML object>"
      ]
     },
     "metadata": {},
     "output_type": "display_data"
    },
    {
     "data": {
      "text/html": [
       "Run data is saved locally in <code>/atlas2/u/clcp/vector_compress/wandb/run-20230314_200557-2i2wdbaz</code>"
      ],
      "text/plain": [
       "<IPython.core.display.HTML object>"
      ]
     },
     "metadata": {},
     "output_type": "display_data"
    },
    {
     "data": {
      "text/html": [
       "Syncing run <strong><a href=\"https://wandb.ai/cpolzak/ee269_final/runs/2i2wdbaz\" target=\"_blank\">geoSSL-fmow-center_eig_proj200-mlp-23_03_14-20_05</a></strong> to <a href=\"https://wandb.ai/cpolzak/ee269_final\" target=\"_blank\">Weights & Biases</a> (<a href=\"https://wandb.me/run\" target=\"_blank\">docs</a>)<br/>"
      ],
      "text/plain": [
       "<IPython.core.display.HTML object>"
      ]
     },
     "metadata": {},
     "output_type": "display_data"
    },
    {
     "name": "stderr",
     "output_type": "stream",
     "text": [
      "best=0.705: 100%|██████████████████████████████████████████████████████████████████████████████████████████████████████████████████████████|162900/162900\n"
     ]
    },
    {
     "data": {
      "text/html": [
       "Waiting for W&B process to finish... <strong style=\"color:green\">(success).</strong>"
      ],
      "text/plain": [
       "<IPython.core.display.HTML object>"
      ]
     },
     "metadata": {},
     "output_type": "display_data"
    },
    {
     "data": {
      "text/html": [
       "<style>\n",
       "    table.wandb td:nth-child(1) { padding: 0 10px; text-align: left ; width: auto;} td:nth-child(2) {text-align: left ; width: 100%}\n",
       "    .wandb-row { display: flex; flex-direction: row; flex-wrap: wrap; justify-content: flex-start; width: 100% }\n",
       "    .wandb-col { display: flex; flex-direction: column; flex-basis: 100%; flex: 1; padding: 10px; }\n",
       "    </style>\n",
       "<div class=\"wandb-row\"><div class=\"wandb-col\"><h3>Run history:</h3><br/><table class=\"wandb\"><tr><td>best_val acc</td><td>▁</td></tr><tr><td>train acc</td><td>▁▄▄▅▅▅▅▅▆▆▆▆▆▇▇▇▇▇▇▇▇▇▇▇▇▇██████████████</td></tr><tr><td>train loss</td><td>█▅▄▄▄▄▃▃▃▃▃▃▂▂▂▂▂▂▂▂▂▂▂▂▂▁▁▁▁▁▁▁▁▁▁▁▁▁▁▁</td></tr><tr><td>val acc</td><td>▁▄▆▆▇▇██████████████████████████████████</td></tr><tr><td>val loss</td><td>█▄▃▂▁▁▁▁▁▁▁▂▂▂▂▂▃▃▃▃▃▄▄▄▄▄▅▅▅▅▆▆▆▆▆▆▆▇▇▇</td></tr></table><br/></div><div class=\"wandb-col\"><h3>Run summary:</h3><br/><table class=\"wandb\"><tr><td>best_val acc</td><td>0.70462</td></tr><tr><td>train acc</td><td>0.88897</td></tr><tr><td>train loss</td><td>0.3433</td></tr><tr><td>val acc</td><td>0.70119</td></tr><tr><td>val loss</td><td>1.28819</td></tr></table><br/></div></div>"
      ],
      "text/plain": [
       "<IPython.core.display.HTML object>"
      ]
     },
     "metadata": {},
     "output_type": "display_data"
    },
    {
     "data": {
      "text/html": [
       "Synced <strong style=\"color:#cdcd00\">geoSSL-fmow-center_eig_proj200-mlp-23_03_14-20_05</strong>: <a href=\"https://wandb.ai/cpolzak/ee269_final/runs/2i2wdbaz\" target=\"_blank\">https://wandb.ai/cpolzak/ee269_final/runs/2i2wdbaz</a><br/>Synced 5 W&B file(s), 0 media file(s), 0 artifact file(s) and 0 other file(s)"
      ],
      "text/plain": [
       "<IPython.core.display.HTML object>"
      ]
     },
     "metadata": {},
     "output_type": "display_data"
    },
    {
     "data": {
      "text/html": [
       "Find logs at: <code>./wandb/run-20230314_200557-2i2wdbaz/logs</code>"
      ],
      "text/plain": [
       "<IPython.core.display.HTML object>"
      ]
     },
     "metadata": {},
     "output_type": "display_data"
    }
   ],
   "source": [
    "for psz in proj_sizes:\n",
    "    base_name = f'geoSSL-fmow-center_eig_proj{psz}'\n",
    "    data_path = f'data/comp/{base_name}.pt'\n",
    "    model_path = f'compress_models/geoSSL-fmow-center_eig_proj{psz}.pt'\n",
    "    data = torch.load(data_path)\n",
    "    X_tr_proj = data['train']['Z']\n",
    "    y_tr_apx = data['train']['y']\n",
    "    X_te_proj = data['test']['Z']\n",
    "    y_te_apx = data['test']['y']\n",
    "    \n",
    "    U = torch.load(model_path)\n",
    "    X_tr_apx = eig_decompress(X_tr_proj, U)\n",
    "    X_te_apx = eig_decompress(X_te_proj, U)\n",
    "    \n",
    "    z_dim = X_tr_apx.shape[-1]\n",
    "    model = MultiLayerMLP(dims=[z_dim, 2048, 1024, 62], dropouts=[.5,.5])\n",
    "\n",
    "    run_name = base_name+'-mlp'\n",
    "    run_training(X_tr_apx, y_tr_apx, X_te_apx, y_te_apx, run_name=run_name, cfg=cfg, model=model)"
   ]
  },
  {
   "cell_type": "markdown",
   "metadata": {
    "tags": []
   },
   "source": [
    "# scale prior"
   ]
  },
  {
   "cell_type": "code",
   "execution_count": 58,
   "metadata": {},
   "outputs": [],
   "source": [
    "from scale_prior_comp.compress import create_compressor, train_compressor\n",
    "from torch.utils.data import DataLoader, TensorDataset\n",
    "import time\n",
    "SEED = 269"
   ]
  },
  {
   "cell_type": "code",
   "execution_count": 42,
   "metadata": {},
   "outputs": [],
   "source": [
    "def set_seed(SEED):\n",
    "    np.random.seed(SEED)\n",
    "    np_rng = np.random.default_rng(seed=SEED)\n",
    "    torch.manual_seed(SEED)\n",
    "    torch.cuda.manual_seed(SEED)\n",
    "    torch.backends.cudnn.deterministic = True"
   ]
  },
  {
   "cell_type": "code",
   "execution_count": 43,
   "metadata": {},
   "outputs": [],
   "source": [
    "set_seed(SEED)"
   ]
  },
  {
   "cell_type": "markdown",
   "metadata": {
    "jp-MarkdownHeadingCollapsed": true,
    "tags": []
   },
   "source": [
    "## train compressor"
   ]
  },
  {
   "cell_type": "code",
   "execution_count": 41,
   "metadata": {},
   "outputs": [],
   "source": [
    "def do_train(load_path, compressor_path=None, verbose=True):\n",
    "    global SEED\n",
    "    set_seed(SEED)\n",
    "    device = 'cuda' if torch.cuda.is_available() else 'cpu'\n",
    "    if compressor_path is None:\n",
    "        compressor_path = load_path[load_path.rfind('/')+1:load_path.rfind('.')]\n",
    "    assert load_path.endswith('.npz')\n",
    "    input_data = np.load(load_path)\n",
    "    feat_vecs = input_data['Z']\n",
    "    labels = input_data['y']\n",
    "    featvec_dset = torch.utils.data.dataset.TensorDataset(torch.from_numpy(feat_vecs), \\\n",
    "                                                          torch.from_numpy(labels))\n",
    "    hparams = {\n",
    "        'z_dim': 768,\n",
    "        'lmbda': 4e-2,\n",
    "        'lr': 2e-1,\n",
    "        'lr_step': 5,\n",
    "        'n_epochs': 10\n",
    "    }\n",
    "\n",
    "    compressor = create_compressor(hparams)\n",
    "    compressor, logs = train_compressor(compressor, featvec_dset, device, hparams=hparams, get_logs=True)\n",
    "    print('preparing compressor')\n",
    "    compressor.bottleneck.update(force=True)\n",
    "    compressor.is_updated = True\n",
    "    print(\"saving started\")\n",
    "    torch.save(compressor, compressor_path)\n",
    "    print(f\"compressor saved to {compressor_path}\")\n",
    "    return logs"
   ]
  },
  {
   "cell_type": "code",
   "execution_count": null,
   "metadata": {},
   "outputs": [],
   "source": [
    "data_path = 'data/raw/geoSSL-fmow.pt'\n",
    "compressor_save_path = \"compress_models/fmow_trained_compressor.ptmodel\"\n",
    "print('running')\n",
    "logs = do_train(data_path, compressor_save_path)"
   ]
  },
  {
   "cell_type": "markdown",
   "metadata": {
    "tags": []
   },
   "source": [
    "## compress and decompress data"
   ]
  },
  {
   "cell_type": "code",
   "execution_count": 59,
   "metadata": {},
   "outputs": [],
   "source": [
    "def compress(dataset, compressor, verbose=True, device='cuda'):\n",
    "    start = time.time()\n",
    "    dl = DataLoader(dataset, shuffle=False, num_workers=2, batch_size=256, pin_memory=True)\n",
    "    Z_byte_batches = []\n",
    "    Y = []\n",
    "    for z,y in tqdm(dl):\n",
    "        z, y = z.to(device), y\n",
    "        Z_byte_batches.append(compressor.compress(z))\n",
    "        Y.append(y.cpu())\n",
    "    flat_z = [i for batch in Z_byte_batches for i in batch]\n",
    "    Y = torch.cat(Y, dim=0)\n",
    "    coding_rate = sum([len(s) for s in flat_z]) * 8 / len(flat_z)\n",
    "    comp_sec_per_img = (time.time() - start) / len(flat_z)\n",
    "    if verbose:\n",
    "        print(f\"Bitrate={coding_rate:.1f}, compression->{1/comp_sec_per_img:.1f} img/sec\")\n",
    "    return Z_byte_batches, Y\n",
    "\n",
    "def decompress(Z_byte_batches, compressor, verbose=True):\n",
    "    start = time.time()\n",
    "    with torch.no_grad():\n",
    "        Z_hat = []\n",
    "        for b in tqdm(Z_byte_batches):\n",
    "            Z_hat.append(compressor.decompress(b).cpu())\n",
    "        dec_sec_per_img = (time.time() - start) / len(Z_hat)\n",
    "    Z_hat = torch.cat(Z_hat, dim=0)\n",
    "    if verbose:\n",
    "        print(f\"decompression->{1/dec_sec_per_img:.1f} img/sec\")\n",
    "    return Z_hat"
   ]
  },
  {
   "cell_type": "code",
   "execution_count": 67,
   "metadata": {},
   "outputs": [],
   "source": [
    "def load_compressor(path='compress_models/fmow_trained_compressor.ptmodel'):\n",
    "    state = torch.load(path)    \n",
    "    hparams = {'z_dim': state['biasing'].shape[0]}\n",
    "    compressor = create_compressor(hparams)\n",
    "    compressor.bottleneck._offset = state['bottleneck._offset']\n",
    "    compressor.bottleneck._quantized_cdf = state['bottleneck._quantized_cdf']\n",
    "    compressor.bottleneck._cdf_length = state['bottleneck._cdf_length']\n",
    "    compressor.load_state_dict(state)\n",
    "    return compressor"
   ]
  },
  {
   "cell_type": "code",
   "execution_count": 68,
   "metadata": {},
   "outputs": [],
   "source": [
    "compressor = load_compressor()"
   ]
  },
  {
   "cell_type": "code",
   "execution_count": 69,
   "metadata": {},
   "outputs": [
    {
     "name": "stderr",
     "output_type": "stream",
     "text": [
      "100%|██████████████████████████████████████████████████████████████████████████████████████████████████████████████████████| 5/5 [00:04<00:00,  1.01it/s]\n"
     ]
    },
    {
     "name": "stdout",
     "output_type": "stream",
     "text": [
      "Bitrate=1393.8, compression->253.6 img/sec\n"
     ]
    },
    {
     "name": "stderr",
     "output_type": "stream",
     "text": [
      "100%|██████████████████████████████████████████████████████████████████████████████████████████████████████████████████████| 2/2 [00:01<00:00,  1.19it/s]"
     ]
    },
    {
     "name": "stdout",
     "output_type": "stream",
     "text": [
      "Bitrate=1384.2, compression->250.2 img/sec\n"
     ]
    },
    {
     "name": "stderr",
     "output_type": "stream",
     "text": [
      "\n"
     ]
    }
   ],
   "source": [
    "# compress\n",
    "tr_dset = TensorDataset(X_tr, y_tr)\n",
    "te_dset = TensorDataset(X_te, y_te)\n",
    "compressor.to('cuda:0')\n",
    "Z_tr, Y_tr = compress(tr_dset, compressor, device='cuda:0')\n",
    "Z_te, Y_te = compress(te_dset, compressor, device='cuda:0')\n",
    "comp_data = {\n",
    "    'train':{\n",
    "        'Z': Z_tr,\n",
    "        'y': Y_tr\n",
    "    },\n",
    "    'test': {\n",
    "        'Z': Z_te,\n",
    "        'y': Y_te\n",
    "    }\n",
    "}\n",
    "torch.save(comp_data, f'data/comp/geoSSL-ucmerced-scale_prior.pt')"
   ]
  },
  {
   "cell_type": "code",
   "execution_count": 70,
   "metadata": {},
   "outputs": [
    {
     "name": "stderr",
     "output_type": "stream",
     "text": [
      "100%|██████████████████████████████████████████████████████████████████████████████████████████████████████████████████████| 5/5 [00:04<00:00,  1.12it/s]\n"
     ]
    },
    {
     "name": "stdout",
     "output_type": "stream",
     "text": [
      "decompression->1.1 img/sec\n"
     ]
    },
    {
     "name": "stderr",
     "output_type": "stream",
     "text": [
      "100%|██████████████████████████████████████████████████████████████████████████████████████████████████████████████████████| 2/2 [00:01<00:00,  1.43it/s]"
     ]
    },
    {
     "name": "stdout",
     "output_type": "stream",
     "text": [
      "decompression->1.4 img/sec\n"
     ]
    },
    {
     "name": "stderr",
     "output_type": "stream",
     "text": [
      "\n"
     ]
    }
   ],
   "source": [
    "Z_tr_decomp = decompress(Z_tr, compressor)\n",
    "Z_te_decomp = decompress(Z_te, compressor)"
   ]
  },
  {
   "cell_type": "code",
   "execution_count": 74,
   "metadata": {},
   "outputs": [],
   "source": [
    "decomp_data = {\n",
    "    'train':{\n",
    "        'Z': Z_tr_decomp,\n",
    "        'y': Y_tr\n",
    "    },\n",
    "    'test': {\n",
    "        'Z': Z_te_decomp,\n",
    "        'y': Y_te\n",
    "    }\n",
    "}\n",
    "torch.save(decomp_data, f'data/decomp/geoSSL-ucmerced-scale_prior.pt')"
   ]
  },
  {
   "cell_type": "markdown",
   "metadata": {
    "tags": []
   },
   "source": [
    "## training on decompressed features"
   ]
  },
  {
   "cell_type": "code",
   "execution_count": 39,
   "metadata": {},
   "outputs": [],
   "source": [
    "# import wandb\n",
    "# api = wandb.Api()\n",
    "\n",
    "# run = api.run(\"cpolzak/ee269_final/bl44c4tn\")\n",
    "# run.config[\"model_type\"] = 'multi_mlp'\n",
    "# run.update()"
   ]
  },
  {
   "cell_type": "code",
   "execution_count": 17,
   "metadata": {},
   "outputs": [],
   "source": [
    "cfg.compress_type = 'scale_prior'"
   ]
  },
  {
   "cell_type": "code",
   "execution_count": 27,
   "metadata": {
    "scrolled": true,
    "tags": []
   },
   "outputs": [
    {
     "name": "stdout",
     "output_type": "stream",
     "text": [
      "prepping for training\n",
      "starting training\n"
     ]
    },
    {
     "data": {
      "text/html": [
       "Changes to your `wandb` environment variables will be ignored because your `wandb` session has already started. For more information on how to modify your settings with `wandb.init()` arguments, please refer to <a href=\"https://wandb.me/wandb-init\" target=\"_blank\">the W&B docs</a>."
      ],
      "text/plain": [
       "<IPython.core.display.HTML object>"
      ]
     },
     "metadata": {},
     "output_type": "display_data"
    },
    {
     "data": {
      "text/html": [
       "wandb version 0.13.11 is available!  To upgrade, please run:\n",
       " $ pip install wandb --upgrade"
      ],
      "text/plain": [
       "<IPython.core.display.HTML object>"
      ]
     },
     "metadata": {},
     "output_type": "display_data"
    },
    {
     "data": {
      "text/html": [
       "Tracking run with wandb version 0.13.5"
      ],
      "text/plain": [
       "<IPython.core.display.HTML object>"
      ]
     },
     "metadata": {},
     "output_type": "display_data"
    },
    {
     "data": {
      "text/html": [
       "Run data is saved locally in <code>/atlas2/u/clcp/vector_compress/wandb/run-20230314_003317-bl44c4tn</code>"
      ],
      "text/plain": [
       "<IPython.core.display.HTML object>"
      ]
     },
     "metadata": {},
     "output_type": "display_data"
    },
    {
     "data": {
      "text/html": [
       "Syncing run <strong><a href=\"https://wandb.ai/cpolzak/ee269_final/runs/bl44c4tn\" target=\"_blank\">geoSSL-fmow-scale_prior-mlp2-23_03_14-00_33</a></strong> to <a href=\"https://wandb.ai/cpolzak/ee269_final\" target=\"_blank\">Weights & Biases</a> (<a href=\"https://wandb.me/run\" target=\"_blank\">docs</a>)<br/>"
      ],
      "text/plain": [
       "<IPython.core.display.HTML object>"
      ]
     },
     "metadata": {},
     "output_type": "display_data"
    },
    {
     "name": "stderr",
     "output_type": "stream",
     "text": [
      "best=0.681: 100%|████████████████████████████████████████████████████████████████████████████████████████████████████████████████████████████|81450/81450\n"
     ]
    },
    {
     "data": {
      "text/html": [
       "Waiting for W&B process to finish... <strong style=\"color:green\">(success).</strong>"
      ],
      "text/plain": [
       "<IPython.core.display.HTML object>"
      ]
     },
     "metadata": {},
     "output_type": "display_data"
    },
    {
     "data": {
      "text/html": [
       "<style>\n",
       "    table.wandb td:nth-child(1) { padding: 0 10px; text-align: left ; width: auto;} td:nth-child(2) {text-align: left ; width: 100%}\n",
       "    .wandb-row { display: flex; flex-direction: row; flex-wrap: wrap; justify-content: flex-start; width: 100% }\n",
       "    .wandb-col { display: flex; flex-direction: column; flex-basis: 100%; flex: 1; padding: 10px; }\n",
       "    </style>\n",
       "<div class=\"wandb-row\"><div class=\"wandb-col\"><h3>Run history:</h3><br/><table class=\"wandb\"><tr><td>best_val acc</td><td>▁</td></tr><tr><td>train acc</td><td>▁▃▄▄▄▄▄▅▅▅▅▅▅▆▆▆▆▆▆▆▇▇▇▇▇▇▇▇▇▇██████████</td></tr><tr><td>train loss</td><td>█▆▅▅▅▄▄▄▄▄▄▃▃▃▃▃▃▃▂▂▂▂▂▂▂▂▂▂▁▁▁▁▁▁▁▁▁▁▁▁</td></tr><tr><td>val acc</td><td>▁▄▅▆▇▇▇▇█████████████████████████▇██████</td></tr><tr><td>val loss</td><td>▅▃▂▂▁▁▁▁▁▁▁▁▁▁▂▂▂▂▂▃▃▃▃▄▄▄▄▅▅▅▆▆▆▇▇▇▇▇██</td></tr></table><br/></div><div class=\"wandb-col\"><h3>Run summary:</h3><br/><table class=\"wandb\"><tr><td>best_val acc</td><td>0.6813</td></tr><tr><td>train acc</td><td>0.94273</td></tr><tr><td>train loss</td><td>0.18615</td></tr><tr><td>val acc</td><td>0.67851</td></tr><tr><td>val loss</td><td>1.50218</td></tr></table><br/></div></div>"
      ],
      "text/plain": [
       "<IPython.core.display.HTML object>"
      ]
     },
     "metadata": {},
     "output_type": "display_data"
    },
    {
     "data": {
      "text/html": [
       "Synced <strong style=\"color:#cdcd00\">geoSSL-fmow-scale_prior-mlp2-23_03_14-00_33</strong>: <a href=\"https://wandb.ai/cpolzak/ee269_final/runs/bl44c4tn\" target=\"_blank\">https://wandb.ai/cpolzak/ee269_final/runs/bl44c4tn</a><br/>Synced 6 W&B file(s), 0 media file(s), 0 artifact file(s) and 0 other file(s)"
      ],
      "text/plain": [
       "<IPython.core.display.HTML object>"
      ]
     },
     "metadata": {},
     "output_type": "display_data"
    },
    {
     "data": {
      "text/html": [
       "Find logs at: <code>./wandb/run-20230314_003317-bl44c4tn/logs</code>"
      ],
      "text/plain": [
       "<IPython.core.display.HTML object>"
      ]
     },
     "metadata": {},
     "output_type": "display_data"
    }
   ],
   "source": [
    "base_name = 'geoSSL-fmow-scale_prior'\n",
    "data_path = f'data/decomp/{base_name}.pt'\n",
    "data = torch.load(data_path)\n",
    "X_tr_apx = data['train']['Z']\n",
    "y_tr_apx = data['train']['y']\n",
    "X_te_apx = data['test']['Z']\n",
    "y_te_apx = data['test']['y']\n",
    "\n",
    "z_dim = X_tr_apx.shape[-1]\n",
    "model = MultiLayerMLP(dims=[z_dim, 2048, 1024, 62], dropouts=[.5,.5])\n",
    "\n",
    "run_name = base_name+'-mlp2'\n",
    "run_training(X_tr_apx, y_tr_apx, X_te_apx, y_te_apx, run_name=run_name, cfg=cfg, model=model)"
   ]
  },
  {
   "cell_type": "markdown",
   "metadata": {
    "tags": []
   },
   "source": [
    "# quantization"
   ]
  },
  {
   "cell_type": "code",
   "execution_count": 14,
   "metadata": {},
   "outputs": [],
   "source": [
    "# assumes inputs are torch tensors\n",
    "def uniform_width_quantize(v, v_min=None, v_max=None, n_bins=None, n_bits=None, out_dtype=torch.uint8):\n",
    "    assert (n_bins is None) ^ (n_bits is None), \"Please set exactly one of n_bins or n_bits\"\n",
    "    if n_bins is None:\n",
    "        assert n_bits <= torch.iinfo(out_dtype).bits - (torch.iinfo(out_dtype).min < 0)\n",
    "        n_bins = 2**n_bits\n",
    "    if v_min is None:\n",
    "        v_min = v.min()\n",
    "    if v_max is None:\n",
    "        v_max = v.max()\n",
    "    eps = 1/(n_bins + 1) # want to truncate to just less than max\n",
    "    v_zero_one = torch.clamp((v - v_min)/(v_max - v_min), 0, 1-eps) # in case max/min was set\n",
    "    v_quant = (v_zero_one * n_bins).type(out_dtype)\n",
    "    if n_bits is not None:\n",
    "        n_bins = None\n",
    "    return v_quant, {'v_min': v_min, 'v_max': v_max, 'n_bins': n_bins, 'n_bits':n_bits}\n",
    "\n",
    "def uniform_width_dequantize(v_quant, v_min, v_max, n_bins=None, n_bits=None, out_dtype=np.float32):\n",
    "    assert (n_bins is None) ^ (n_bits is None), \"Please set exactly one of n_bins or n_bits\"\n",
    "    if n_bins is None:\n",
    "        n_bins = 2**n_bits\n",
    "    zero_one_medians = v_quant.type(out_dtype)/n_bins + 1/(2*n_bins)\n",
    "    v_approx = v_min + (v_max - v_min) * zero_one_medians\n",
    "    return v_approx"
   ]
  },
  {
   "cell_type": "code",
   "execution_count": 5,
   "metadata": {},
   "outputs": [
    {
     "name": "stdout",
     "output_type": "stream",
     "text": [
      "tensor(0.)\n"
     ]
    }
   ],
   "source": [
    "# figuring out a good min clamp value\n",
    "print(X_tr.min())\n",
    "min_thresh_clamp = 0"
   ]
  },
  {
   "cell_type": "code",
   "execution_count": null,
   "metadata": {},
   "outputs": [],
   "source": [
    "# figuring out a good max clamp value\n",
    "max_threshs = np.linspace(0, 2, num=100)\n",
    "pct_clamped = []\n",
    "total_len = len(X_tr.flatten())\n",
    "for t in tqdm(max_threshs):\n",
    "    pct_clamped.append((X_tr > t).sum()/total_len)"
   ]
  },
  {
   "cell_type": "code",
   "execution_count": 37,
   "metadata": {},
   "outputs": [
    {
     "data": {
      "image/png": "[encoded data removed]",
      "text/plain": [
       "<Figure size 1280x880 with 1 Axes>"
      ]
     },
     "metadata": {},
     "output_type": "display_data"
    }
   ],
   "source": [
    "plt.plot(max_threshs[20:], pct_clamped[20:])\n",
    "plt.xlabel('max clamp value')\n",
    "plt.ylabel('pct of data clamped/clipped')\n",
    "plt.show()"
   ]
  },
  {
   "cell_type": "code",
   "execution_count": 6,
   "metadata": {},
   "outputs": [],
   "source": [
    "max_thresh_clamp = 0.6"
   ]
  },
  {
   "cell_type": "code",
   "execution_count": 30,
   "metadata": {},
   "outputs": [],
   "source": [
    "X_tr_quant, meta = uniform_width_quantize(X_tr, v_min=min_thresh_clamp, v_max=max_thresh_clamp, \\\n",
    "                                    n_bins=None, n_bits=8, out_dtype=torch.uint8)\n",
    "X_te_quant, _ = uniform_width_quantize(X_te, v_min=min_thresh_clamp, v_max=max_thresh_clamp, \\\n",
    "                                    n_bins=None, n_bits=8, out_dtype=torch.uint8)"
   ]
  },
  {
   "cell_type": "code",
   "execution_count": 32,
   "metadata": {},
   "outputs": [],
   "source": [
    "comp_data = {\n",
    "        'train':{\n",
    "            'Z': X_tr_quant,\n",
    "            'y': y_tr\n",
    "        },\n",
    "        'test': {\n",
    "            'Z': X_te_quant,\n",
    "            'y': y_te\n",
    "        }\n",
    "    }\n",
    "torch.save(comp_data, f'data/comp/geoSSL-fmow-quantize_unif_uint8.pt')\n",
    "torch.save(meta, f'compress_models/geoSSL-fmow-quantize_unif_uint8.pt')"
   ]
  },
  {
   "cell_type": "markdown",
   "metadata": {
    "jp-MarkdownHeadingCollapsed": true,
    "tags": []
   },
   "source": [
    "## generalization to other datasets"
   ]
  },
  {
   "cell_type": "code",
   "execution_count": 82,
   "metadata": {},
   "outputs": [],
   "source": [
    "for quant_type, dtype in [('unif_uint8', torch.uint8), ('unif_int15', torch.int16)]:\n",
    "    data_path = f'data/comp/geoSSL-ucmerced-quantize_{quant_type}.pt'\n",
    "    model_path = f'compress_models/geoSSL-fmow-quantize_{quant_type}.pt'\n",
    "    metadata = torch.load(model_path)\n",
    "    X_tr_quant, _ = uniform_width_quantize(X_tr, **metadata, out_dtype=dtype)\n",
    "    X_te_quant, _ = uniform_width_quantize(X_te, **metadata, out_dtype=dtype)\n",
    "    comp_data = {\n",
    "        'train':{\n",
    "            'Z': X_tr_quant,\n",
    "            'y': y_tr\n",
    "        },\n",
    "        'test': {\n",
    "            'Z': X_te_quant,\n",
    "            'y': y_te\n",
    "        }\n",
    "    }\n",
    "    torch.save(comp_data, data_path)"
   ]
  },
  {
   "cell_type": "markdown",
   "metadata": {
    "tags": []
   },
   "source": [
    "## Quantized training"
   ]
  },
  {
   "cell_type": "code",
   "execution_count": 17,
   "metadata": {},
   "outputs": [],
   "source": [
    "cfg.compress_type = 'unif_quant'"
   ]
  },
  {
   "cell_type": "code",
   "execution_count": 18,
   "metadata": {
    "scrolled": true,
    "tags": []
   },
   "outputs": [
    {
     "name": "stdout",
     "output_type": "stream",
     "text": [
      "prepping for training\n",
      "starting training\n"
     ]
    },
    {
     "data": {
      "text/html": [
       "Tracking run with wandb version 0.13.5"
      ],
      "text/plain": [
       "<IPython.core.display.HTML object>"
      ]
     },
     "metadata": {},
     "output_type": "display_data"
    },
    {
     "data": {
      "text/html": [
       "Run data is saved locally in <code>/atlas2/u/clcp/vector_compress/wandb/run-20230314_203251-3c2f8v1c</code>"
      ],
      "text/plain": [
       "<IPython.core.display.HTML object>"
      ]
     },
     "metadata": {},
     "output_type": "display_data"
    },
    {
     "data": {
      "text/html": [
       "Syncing run <strong><a href=\"https://wandb.ai/cpolzak/ee269_final/runs/3c2f8v1c\" target=\"_blank\">geoSSL-fmow-quantize_unif_uint8-mlp-23_03_14-20_32</a></strong> to <a href=\"https://wandb.ai/cpolzak/ee269_final\" target=\"_blank\">Weights & Biases</a> (<a href=\"https://wandb.me/run\" target=\"_blank\">docs</a>)<br/>"
      ],
      "text/plain": [
       "<IPython.core.display.HTML object>"
      ]
     },
     "metadata": {},
     "output_type": "display_data"
    },
    {
     "name": "stderr",
     "output_type": "stream",
     "text": [
      "best=0.710: 100%|██████████████████████████████████████████████████████████████████████████████████████████████████████████████████████████|162900/162900\n"
     ]
    },
    {
     "data": {
      "text/html": [
       "Waiting for W&B process to finish... <strong style=\"color:green\">(success).</strong>"
      ],
      "text/plain": [
       "<IPython.core.display.HTML object>"
      ]
     },
     "metadata": {},
     "output_type": "display_data"
    },
    {
     "name": "stderr",
     "output_type": "stream",
     "text": [
      "\u001b[34m\u001b[1mwandb\u001b[0m: \u001b[32m\u001b[41mERROR\u001b[0m Control-C detected -- Run data was not synced\n"
     ]
    }
   ],
   "source": [
    "for quant_type in ['unif_uint8']:\n",
    "    base_name = f'geoSSL-fmow-quantize_{quant_type}'\n",
    "    data_path = f'data/comp/{base_name}.pt'\n",
    "    model_path = f'compress_models/{base_name}.pt'.replace('ucmerced', 'fmow')\n",
    "    data = torch.load(data_path)\n",
    "    X_tr_quant = data['train']['Z']\n",
    "    y_tr_apx = data['train']['y']\n",
    "    X_te_quant = data['test']['Z']\n",
    "    y_te_apx = data['test']['y']\n",
    "    \n",
    "    metadata = torch.load(model_path)\n",
    "    X_tr_apx = uniform_width_dequantize(X_tr_quant, **metadata, out_dtype=torch.float32)\n",
    "    X_te_apx = uniform_width_dequantize(X_te_quant, **metadata, out_dtype=torch.float32)\n",
    "    \n",
    "    z_dim = X_tr_apx.shape[-1]\n",
    "    model = MultiLayerMLP(dims=[z_dim, 2048, 1024, 62], dropouts=[.5,.5])\n",
    "    \n",
    "    run_name = base_name+'-mlp'\n",
    "    run_training(X_tr_apx, y_tr_apx, X_te_apx, y_te_apx, run_name=run_name, cfg=cfg, model=model)"
   ]
  },
  {
   "cell_type": "markdown",
   "metadata": {
    "jp-MarkdownHeadingCollapsed": true,
    "tags": []
   },
   "source": [
    "# eig projection + quantization\n",
    "(preload the functions in other parts)"
   ]
  },
  {
   "cell_type": "code",
   "execution_count": 24,
   "metadata": {},
   "outputs": [],
   "source": [
    "PROJ_DIM = [100, 150, 200]\n",
    "QUANTIZATIONS = [('unif_uint8', torch.uint8)]"
   ]
  },
  {
   "cell_type": "code",
   "execution_count": 25,
   "metadata": {},
   "outputs": [],
   "source": [
    "def approx_from_quantized_projection(X_proj_quant, model):\n",
    "    X_proj_apx = uniform_width_dequantize(X_proj_quant, **model['quant_metadata'], out_dtype=torch.float32)\n",
    "    X_apx = eig_decompress(X_proj_apx, model['U'])\n",
    "    return X_apx"
   ]
  },
  {
   "cell_type": "markdown",
   "metadata": {
    "jp-MarkdownHeadingCollapsed": true,
    "tags": []
   },
   "source": [
    "## figuring out good clamp values"
   ]
  },
  {
   "cell_type": "code",
   "execution_count": 124,
   "metadata": {},
   "outputs": [],
   "source": [
    "base_name = f'geoSSL-fmow-center_eig_proj200'\n",
    "data_path = f'data/comp/{base_name}.pt'\n",
    "data = torch.load(data_path)\n",
    "X_tr_proj = data['train']['Z']\n",
    "y_tr_apx = data['train']['y']\n",
    "X_te_proj = data['test']['Z']\n",
    "y_te_apx = data['test']['y']"
   ]
  },
  {
   "cell_type": "code",
   "execution_count": 117,
   "metadata": {},
   "outputs": [
    {
     "name": "stderr",
     "output_type": "stream",
     "text": [
      "100%|██████████████████████████████████████████████████████████████████████████████████████████████████████████████████| 100/100 [00:10<00:00,  9.13it/s]\n"
     ]
    }
   ],
   "source": [
    "max_threshs = np.linspace(0.5, 4.5, num=100)\n",
    "pct_max_clamped = []\n",
    "total_len = len(X_tr_proj.flatten())\n",
    "for t in tqdm(max_threshs):\n",
    "    pct_max_clamped.append((X_tr_proj > t).sum()/total_len)"
   ]
  },
  {
   "cell_type": "code",
   "execution_count": 122,
   "metadata": {},
   "outputs": [
    {
     "data": {
      "image/png": "[encoded data removed]",
      "text/plain": [
       "<Figure size 1280x880 with 1 Axes>"
      ]
     },
     "metadata": {},
     "output_type": "display_data"
    }
   ],
   "source": [
    "plt.plot(max_threshs[10:30], pct_max_clamped[10:30])\n",
    "plt.xlabel('max clamp value')\n",
    "plt.ylabel('pct of data clamped/clipped')\n",
    "plt.show()"
   ]
  },
  {
   "cell_type": "code",
   "execution_count": 120,
   "metadata": {},
   "outputs": [
    {
     "name": "stderr",
     "output_type": "stream",
     "text": [
      "100%|██████████████████████████████████████████████████████████████████████████████████████████████████████████████████| 100/100 [00:10<00:00,  9.20it/s]\n"
     ]
    }
   ],
   "source": [
    "min_threshs = np.linspace(-1, 0, num=100)\n",
    "pct_min_clamped = []\n",
    "total_len = len(X_tr_proj.flatten())\n",
    "for t in tqdm(min_threshs):\n",
    "    pct_min_clamped.append((X_tr_proj < t).sum()/total_len)"
   ]
  },
  {
   "cell_type": "code",
   "execution_count": 123,
   "metadata": {},
   "outputs": [
    {
     "data": {
      "image/png": "[encoded data removed]",
      "text/plain": [
       "<Figure size 1280x880 with 1 Axes>"
      ]
     },
     "metadata": {},
     "output_type": "display_data"
    }
   ],
   "source": [
    "plt.plot(min_threshs[:20], pct_min_clamped[:20])\n",
    "plt.xlabel('min clamp value')\n",
    "plt.ylabel('pct of data clamped/clipped')\n",
    "plt.show()"
   ]
  },
  {
   "cell_type": "markdown",
   "metadata": {},
   "source": [
    "to clip a very small amount of data, -1 to 1.5 seems reasonable (lol)"
   ]
  },
  {
   "cell_type": "markdown",
   "metadata": {
    "jp-MarkdownHeadingCollapsed": true,
    "tags": []
   },
   "source": [
    "## project and quantize"
   ]
  },
  {
   "cell_type": "markdown",
   "metadata": {},
   "source": [
    "Note: makes use of pre-existing projected data"
   ]
  },
  {
   "cell_type": "code",
   "execution_count": 140,
   "metadata": {},
   "outputs": [
    {
     "name": "stdout",
     "output_type": "stream",
     "text": [
      "saved data to: data/comp/geoSSL-fmow-center_eig_proj100-quantize_unif_uint8.pt\n",
      "saved data to: data/comp/geoSSL-fmow-center_eig_proj150-quantize_unif_uint8.pt\n",
      "saved data to: data/comp/geoSSL-fmow-center_eig_proj200-quantize_unif_uint8.pt\n"
     ]
    }
   ],
   "source": [
    "min_thresh = -1\n",
    "max_thresh = 1.5\n",
    "for psz in PROJ_DIM:\n",
    "    base_name = f'geoSSL-fmow-center_eig_proj{psz}'\n",
    "    data_path = f'data/comp/{base_name}.pt'\n",
    "    \n",
    "    data = torch.load(data_path)\n",
    "    X_tr_proj = data['train']['Z']\n",
    "    y_tr_apx = data['train']['y']\n",
    "    X_te_proj = data['test']['Z']\n",
    "    y_te_apx = data['test']['y']\n",
    "    model_path = f'compress_models/{base_name}.pt'.replace('ucmerced', 'fmow')\n",
    "    U = torch.load(model_path)\n",
    "    for quant_name, dtype in QUANTIZATIONS:\n",
    "        b = torch.iinfo(dtype).bits - (torch.iinfo(dtype).min < 0)\n",
    "        X_tr_proj_quant, _ = uniform_width_quantize(X_tr_proj, v_min=min_thresh, v_max=max_thresh, \\\n",
    "                                                       n_bins=None, n_bits=b, out_dtype=dtype)\n",
    "        X_te_proj_quant, _ = uniform_width_quantize(X_te_proj, v_min=min_thresh, v_max=max_thresh, \\\n",
    "                                                    n_bins=None, n_bits=b, out_dtype=dtype)\n",
    "        comp_data = {\n",
    "            'train':{\n",
    "                'Z': X_tr_proj_quant,\n",
    "                'y': y_tr_apx\n",
    "            },\n",
    "            'test': {\n",
    "                'Z': X_te_proj_quant,\n",
    "                'y': y_te_apx\n",
    "            }\n",
    "        }\n",
    "        \n",
    "        model_data = {\n",
    "            'U': U,\n",
    "            'quant_metadata': meta\n",
    "        }\n",
    "        torch.save(comp_data, f'data/comp/{base_name}-quantize_{quant_name}.pt')\n",
    "        torch.save(model_data, f'compress_models/{base_name}-quantize_{quant_name}.pt')\n",
    "        print('saved data to:', f'data/comp/{base_name}-quantize_{quant_name}.pt')"
   ]
  },
  {
   "cell_type": "markdown",
   "metadata": {
    "jp-MarkdownHeadingCollapsed": true,
    "tags": []
   },
   "source": [
    "## generalized pipeline"
   ]
  },
  {
   "cell_type": "markdown",
   "metadata": {},
   "source": [
    "Note: makes use of pre-existing projected data"
   ]
  },
  {
   "cell_type": "code",
   "execution_count": 151,
   "metadata": {},
   "outputs": [
    {
     "name": "stdout",
     "output_type": "stream",
     "text": [
      "saved data to: data/comp/geoSSL-ucmerced-center_eig_proj100-quantize_unif_uint8.pt\n",
      "saved data to: data/comp/geoSSL-ucmerced-center_eig_proj150-quantize_unif_uint8.pt\n",
      "saved data to: data/comp/geoSSL-ucmerced-center_eig_proj200-quantize_unif_uint8.pt\n"
     ]
    }
   ],
   "source": [
    "gen_dset = 'ucmerced'\n",
    "for psz in PROJ_DIM:\n",
    "    base_name = f'geoSSL-{gen_dset}-center_eig_proj{psz}'\n",
    "    data_path = f'data/comp/{base_name}.pt'\n",
    "    data = torch.load(data_path)\n",
    "    X_tr_proj = data['train']['Z']\n",
    "    y_tr_apx = data['train']['y']\n",
    "    X_te_proj = data['test']['Z']\n",
    "    y_te_apx = data['test']['y']\n",
    "    \n",
    "    for quant_name, _ in QUANTIZATIONS:\n",
    "        model_path = f'compress_models/{base_name}-quantize_{quant_name}.pt'.replace(gen_dset, 'fmow')\n",
    "        meta = torch.load(model_path)['quant_metadata']\n",
    "        X_tr_proj_quant, _ = uniform_width_quantize(X_tr_proj, **meta, out_dtype=dtype)\n",
    "        X_te_proj_quant, _ = uniform_width_quantize(X_te_proj, **meta, out_dtype=dtype)\n",
    "        comp_data = {\n",
    "            'train':{\n",
    "                'Z': X_tr_proj_quant,\n",
    "                'y': y_tr_apx\n",
    "            },\n",
    "            'test': {\n",
    "                'Z': X_te_proj_quant,\n",
    "                'y': y_te_apx\n",
    "            }\n",
    "        }\n",
    "        torch.save(comp_data, f'data/comp/{base_name}-quantize_{quant_name}.pt')\n",
    "        print('saved data to:', f'data/comp/{base_name}-quantize_{quant_name}.pt')"
   ]
  },
  {
   "cell_type": "markdown",
   "metadata": {},
   "source": [
    "## training"
   ]
  },
  {
   "cell_type": "code",
   "execution_count": 40,
   "metadata": {},
   "outputs": [],
   "source": [
    "cfg.compress_type = 'center_eig_proj_unif_quant'"
   ]
  },
  {
   "cell_type": "code",
   "execution_count": 44,
   "metadata": {
    "scrolled": true,
    "tags": []
   },
   "outputs": [
    {
     "name": "stdout",
     "output_type": "stream",
     "text": [
      "prepping for training\n",
      "starting training\n"
     ]
    },
    {
     "data": {
      "text/html": [
       "Changes to your `wandb` environment variables will be ignored because your `wandb` session has already started. For more information on how to modify your settings with `wandb.init()` arguments, please refer to <a href=\"https://wandb.me/wandb-init\" target=\"_blank\">the W&B docs</a>."
      ],
      "text/plain": [
       "<IPython.core.display.HTML object>"
      ]
     },
     "metadata": {},
     "output_type": "display_data"
    },
    {
     "data": {
      "text/html": [
       "wandb version 0.13.11 is available!  To upgrade, please run:\n",
       " $ pip install wandb --upgrade"
      ],
      "text/plain": [
       "<IPython.core.display.HTML object>"
      ]
     },
     "metadata": {},
     "output_type": "display_data"
    },
    {
     "data": {
      "text/html": [
       "Tracking run with wandb version 0.13.5"
      ],
      "text/plain": [
       "<IPython.core.display.HTML object>"
      ]
     },
     "metadata": {},
     "output_type": "display_data"
    },
    {
     "data": {
      "text/html": [
       "Run data is saved locally in <code>/atlas2/u/clcp/vector_compress/wandb/run-20230314_005627-15h715hy</code>"
      ],
      "text/plain": [
       "<IPython.core.display.HTML object>"
      ]
     },
     "metadata": {},
     "output_type": "display_data"
    },
    {
     "data": {
      "text/html": [
       "Syncing run <strong><a href=\"https://wandb.ai/cpolzak/ee269_final/runs/15h715hy\" target=\"_blank\">geoSSL-fmow-center_eig_proj100-quantize_unif_uint8-mlp-23_03_14-00_56</a></strong> to <a href=\"https://wandb.ai/cpolzak/ee269_final\" target=\"_blank\">Weights & Biases</a> (<a href=\"https://wandb.me/run\" target=\"_blank\">docs</a>)<br/>"
      ],
      "text/plain": [
       "<IPython.core.display.HTML object>"
      ]
     },
     "metadata": {},
     "output_type": "display_data"
    },
    {
     "name": "stderr",
     "output_type": "stream",
     "text": [
      "best=0.693: 100%|████████████████████████████████████████████████████████████████████████████████████████████████████████████████████████████|81450/81450\n"
     ]
    },
    {
     "data": {
      "text/html": [
       "Waiting for W&B process to finish... <strong style=\"color:green\">(success).</strong>"
      ],
      "text/plain": [
       "<IPython.core.display.HTML object>"
      ]
     },
     "metadata": {},
     "output_type": "display_data"
    },
    {
     "data": {
      "text/html": [
       "<style>\n",
       "    table.wandb td:nth-child(1) { padding: 0 10px; text-align: left ; width: auto;} td:nth-child(2) {text-align: left ; width: 100%}\n",
       "    .wandb-row { display: flex; flex-direction: row; flex-wrap: wrap; justify-content: flex-start; width: 100% }\n",
       "    .wandb-col { display: flex; flex-direction: column; flex-basis: 100%; flex: 1; padding: 10px; }\n",
       "    </style>\n",
       "<div class=\"wandb-row\"><div class=\"wandb-col\"><h3>Run history:</h3><br/><table class=\"wandb\"><tr><td>best_val acc</td><td>▁</td></tr><tr><td>train acc</td><td>▁▄▄▅▅▅▅▆▆▆▆▆▆▆▆▆▇▇▇▇▇▇▇▇▇▇▇▇▇███████████</td></tr><tr><td>train loss</td><td>█▅▄▄▄▄▃▃▃▃▃▃▃▃▂▂▂▂▂▂▂▂▂▂▂▂▂▂▁▁▁▁▁▁▁▁▁▁▁▁</td></tr><tr><td>val acc</td><td>▁▃▄▄▅▆▆▆▇▇▇▇▇▇█▇████████████████████████</td></tr><tr><td>val loss</td><td>█▆▅▄▃▃▂▂▂▂▂▁▁▁▁▁▁▁▁▁▁▁▁▁▁▁▁▁▁▁▁▁▁▁▁▁▁▂▁▂</td></tr></table><br/></div><div class=\"wandb-col\"><h3>Run summary:</h3><br/><table class=\"wandb\"><tr><td>best_val acc</td><td>0.69316</td></tr><tr><td>train acc</td><td>0.78464</td></tr><tr><td>train loss</td><td>0.71082</td></tr><tr><td>val acc</td><td>0.69161</td></tr><tr><td>val loss</td><td>1.12296</td></tr></table><br/></div></div>"
      ],
      "text/plain": [
       "<IPython.core.display.HTML object>"
      ]
     },
     "metadata": {},
     "output_type": "display_data"
    },
    {
     "data": {
      "text/html": [
       "Synced <strong style=\"color:#cdcd00\">geoSSL-fmow-center_eig_proj100-quantize_unif_uint8-mlp-23_03_14-00_56</strong>: <a href=\"https://wandb.ai/cpolzak/ee269_final/runs/15h715hy\" target=\"_blank\">https://wandb.ai/cpolzak/ee269_final/runs/15h715hy</a><br/>Synced 6 W&B file(s), 0 media file(s), 0 artifact file(s) and 0 other file(s)"
      ],
      "text/plain": [
       "<IPython.core.display.HTML object>"
      ]
     },
     "metadata": {},
     "output_type": "display_data"
    },
    {
     "data": {
      "text/html": [
       "Find logs at: <code>./wandb/run-20230314_005627-15h715hy/logs</code>"
      ],
      "text/plain": [
       "<IPython.core.display.HTML object>"
      ]
     },
     "metadata": {},
     "output_type": "display_data"
    },
    {
     "name": "stdout",
     "output_type": "stream",
     "text": [
      "prepping for training\n",
      "starting training\n"
     ]
    },
    {
     "data": {
      "text/html": [
       "Changes to your `wandb` environment variables will be ignored because your `wandb` session has already started. For more information on how to modify your settings with `wandb.init()` arguments, please refer to <a href=\"https://wandb.me/wandb-init\" target=\"_blank\">the W&B docs</a>."
      ],
      "text/plain": [
       "<IPython.core.display.HTML object>"
      ]
     },
     "metadata": {},
     "output_type": "display_data"
    },
    {
     "data": {
      "text/html": [
       "wandb version 0.13.11 is available!  To upgrade, please run:\n",
       " $ pip install wandb --upgrade"
      ],
      "text/plain": [
       "<IPython.core.display.HTML object>"
      ]
     },
     "metadata": {},
     "output_type": "display_data"
    },
    {
     "data": {
      "text/html": [
       "Tracking run with wandb version 0.13.5"
      ],
      "text/plain": [
       "<IPython.core.display.HTML object>"
      ]
     },
     "metadata": {},
     "output_type": "display_data"
    },
    {
     "data": {
      "text/html": [
       "Run data is saved locally in <code>/atlas2/u/clcp/vector_compress/wandb/run-20230314_010650-23kjj29q</code>"
      ],
      "text/plain": [
       "<IPython.core.display.HTML object>"
      ]
     },
     "metadata": {},
     "output_type": "display_data"
    },
    {
     "data": {
      "text/html": [
       "Syncing run <strong><a href=\"https://wandb.ai/cpolzak/ee269_final/runs/23kjj29q\" target=\"_blank\">geoSSL-fmow-center_eig_proj150-quantize_unif_uint8-mlp-23_03_14-01_06</a></strong> to <a href=\"https://wandb.ai/cpolzak/ee269_final\" target=\"_blank\">Weights & Biases</a> (<a href=\"https://wandb.me/run\" target=\"_blank\">docs</a>)<br/>"
      ],
      "text/plain": [
       "<IPython.core.display.HTML object>"
      ]
     },
     "metadata": {},
     "output_type": "display_data"
    },
    {
     "name": "stderr",
     "output_type": "stream",
     "text": [
      "best=0.699: 100%|████████████████████████████████████████████████████████████████████████████████████████████████████████████████████████████|81450/81450\n"
     ]
    },
    {
     "data": {
      "text/html": [
       "Waiting for W&B process to finish... <strong style=\"color:green\">(success).</strong>"
      ],
      "text/plain": [
       "<IPython.core.display.HTML object>"
      ]
     },
     "metadata": {},
     "output_type": "display_data"
    },
    {
     "data": {
      "text/html": [
       "<style>\n",
       "    table.wandb td:nth-child(1) { padding: 0 10px; text-align: left ; width: auto;} td:nth-child(2) {text-align: left ; width: 100%}\n",
       "    .wandb-row { display: flex; flex-direction: row; flex-wrap: wrap; justify-content: flex-start; width: 100% }\n",
       "    .wandb-col { display: flex; flex-direction: column; flex-basis: 100%; flex: 1; padding: 10px; }\n",
       "    </style>\n",
       "<div class=\"wandb-row\"><div class=\"wandb-col\"><h3>Run history:</h3><br/><table class=\"wandb\"><tr><td>best_val acc</td><td>▁</td></tr><tr><td>train acc</td><td>▁▄▄▅▅▅▅▅▆▆▆▆▆▆▆▆▇▇▇▇▇▇▇▇▇▇▇▇▇▇██████████</td></tr><tr><td>train loss</td><td>█▅▅▄▄▄▄▃▃▃▃▃▃▃▃▂▂▂▂▂▂▂▂▂▂▂▂▂▁▁▁▁▁▁▁▁▁▁▁▁</td></tr><tr><td>val acc</td><td>▁▃▄▅▆▆▆▇▇▇▇▇█▇██████████████████████████</td></tr><tr><td>val loss</td><td>█▆▄▄▃▃▂▂▂▁▁▁▁▁▁▁▁▁▁▁▁▁▁▁▁▁▁▁▂▁▂▂▂▂▂▂▂▂▂▂</td></tr></table><br/></div><div class=\"wandb-col\"><h3>Run summary:</h3><br/><table class=\"wandb\"><tr><td>best_val acc</td><td>0.69868</td></tr><tr><td>train acc</td><td>0.81017</td></tr><tr><td>train loss</td><td>0.62266</td></tr><tr><td>val acc</td><td>0.69838</td></tr><tr><td>val loss</td><td>1.12292</td></tr></table><br/></div></div>"
      ],
      "text/plain": [
       "<IPython.core.display.HTML object>"
      ]
     },
     "metadata": {},
     "output_type": "display_data"
    },
    {
     "data": {
      "text/html": [
       "Synced <strong style=\"color:#cdcd00\">geoSSL-fmow-center_eig_proj150-quantize_unif_uint8-mlp-23_03_14-01_06</strong>: <a href=\"https://wandb.ai/cpolzak/ee269_final/runs/23kjj29q\" target=\"_blank\">https://wandb.ai/cpolzak/ee269_final/runs/23kjj29q</a><br/>Synced 6 W&B file(s), 0 media file(s), 0 artifact file(s) and 0 other file(s)"
      ],
      "text/plain": [
       "<IPython.core.display.HTML object>"
      ]
     },
     "metadata": {},
     "output_type": "display_data"
    },
    {
     "data": {
      "text/html": [
       "Find logs at: <code>./wandb/run-20230314_010650-23kjj29q/logs</code>"
      ],
      "text/plain": [
       "<IPython.core.display.HTML object>"
      ]
     },
     "metadata": {},
     "output_type": "display_data"
    },
    {
     "name": "stdout",
     "output_type": "stream",
     "text": [
      "prepping for training\n",
      "starting training\n"
     ]
    },
    {
     "data": {
      "text/html": [
       "Changes to your `wandb` environment variables will be ignored because your `wandb` session has already started. For more information on how to modify your settings with `wandb.init()` arguments, please refer to <a href=\"https://wandb.me/wandb-init\" target=\"_blank\">the W&B docs</a>."
      ],
      "text/plain": [
       "<IPython.core.display.HTML object>"
      ]
     },
     "metadata": {},
     "output_type": "display_data"
    },
    {
     "data": {
      "text/html": [
       "wandb version 0.13.11 is available!  To upgrade, please run:\n",
       " $ pip install wandb --upgrade"
      ],
      "text/plain": [
       "<IPython.core.display.HTML object>"
      ]
     },
     "metadata": {},
     "output_type": "display_data"
    },
    {
     "data": {
      "text/html": [
       "Tracking run with wandb version 0.13.5"
      ],
      "text/plain": [
       "<IPython.core.display.HTML object>"
      ]
     },
     "metadata": {},
     "output_type": "display_data"
    },
    {
     "data": {
      "text/html": [
       "Run data is saved locally in <code>/atlas2/u/clcp/vector_compress/wandb/run-20230314_011712-3q3eohn5</code>"
      ],
      "text/plain": [
       "<IPython.core.display.HTML object>"
      ]
     },
     "metadata": {},
     "output_type": "display_data"
    },
    {
     "data": {
      "text/html": [
       "Syncing run <strong><a href=\"https://wandb.ai/cpolzak/ee269_final/runs/3q3eohn5\" target=\"_blank\">geoSSL-fmow-center_eig_proj200-quantize_unif_uint8-mlp-23_03_14-01_17</a></strong> to <a href=\"https://wandb.ai/cpolzak/ee269_final\" target=\"_blank\">Weights & Biases</a> (<a href=\"https://wandb.me/run\" target=\"_blank\">docs</a>)<br/>"
      ],
      "text/plain": [
       "<IPython.core.display.HTML object>"
      ]
     },
     "metadata": {},
     "output_type": "display_data"
    },
    {
     "name": "stderr",
     "output_type": "stream",
     "text": [
      "best=0.703: 100%|████████████████████████████████████████████████████████████████████████████████████████████████████████████████████████████|81450/81450\n"
     ]
    },
    {
     "data": {
      "text/html": [
       "Waiting for W&B process to finish... <strong style=\"color:green\">(success).</strong>"
      ],
      "text/plain": [
       "<IPython.core.display.HTML object>"
      ]
     },
     "metadata": {},
     "output_type": "display_data"
    },
    {
     "data": {
      "text/html": [
       "<style>\n",
       "    table.wandb td:nth-child(1) { padding: 0 10px; text-align: left ; width: auto;} td:nth-child(2) {text-align: left ; width: 100%}\n",
       "    .wandb-row { display: flex; flex-direction: row; flex-wrap: wrap; justify-content: flex-start; width: 100% }\n",
       "    .wandb-col { display: flex; flex-direction: column; flex-basis: 100%; flex: 1; padding: 10px; }\n",
       "    </style>\n",
       "<div class=\"wandb-row\"><div class=\"wandb-col\"><h3>Run history:</h3><br/><table class=\"wandb\"><tr><td>best_val acc</td><td>▁</td></tr><tr><td>train acc</td><td>▁▄▄▄▅▅▅▅▆▆▆▆▆▆▆▆▆▇▇▇▇▇▇▇▇▇▇▇▇▇██████████</td></tr><tr><td>train loss</td><td>█▅▅▄▄▄▄▃▃▃▃▃▃▃▃▃▂▂▂▂▂▂▂▂▂▂▂▂▂▁▁▁▁▁▁▁▁▁▁▁</td></tr><tr><td>val acc</td><td>▁▃▄▅▆▆▆▇▇▇▇▇████████████████████████████</td></tr><tr><td>val loss</td><td>█▅▄▄▃▂▂▂▂▁▁▁▁▁▁▁▁▁▁▁▁▁▁▁▂▂▂▂▂▂▂▂▂▂▂▂▂▂▂▃</td></tr></table><br/></div><div class=\"wandb-col\"><h3>Run summary:</h3><br/><table class=\"wandb\"><tr><td>best_val acc</td><td>0.70288</td></tr><tr><td>train acc</td><td>0.82692</td></tr><tr><td>train loss</td><td>0.56455</td></tr><tr><td>val acc</td><td>0.70158</td></tr><tr><td>val loss</td><td>1.1299</td></tr></table><br/></div></div>"
      ],
      "text/plain": [
       "<IPython.core.display.HTML object>"
      ]
     },
     "metadata": {},
     "output_type": "display_data"
    },
    {
     "data": {
      "text/html": [
       "Synced <strong style=\"color:#cdcd00\">geoSSL-fmow-center_eig_proj200-quantize_unif_uint8-mlp-23_03_14-01_17</strong>: <a href=\"https://wandb.ai/cpolzak/ee269_final/runs/3q3eohn5\" target=\"_blank\">https://wandb.ai/cpolzak/ee269_final/runs/3q3eohn5</a><br/>Synced 6 W&B file(s), 0 media file(s), 0 artifact file(s) and 0 other file(s)"
      ],
      "text/plain": [
       "<IPython.core.display.HTML object>"
      ]
     },
     "metadata": {},
     "output_type": "display_data"
    },
    {
     "data": {
      "text/html": [
       "Find logs at: <code>./wandb/run-20230314_011712-3q3eohn5/logs</code>"
      ],
      "text/plain": [
       "<IPython.core.display.HTML object>"
      ]
     },
     "metadata": {},
     "output_type": "display_data"
    }
   ],
   "source": [
    "dset = 'fmow'\n",
    "for psz in PROJ_DIM:\n",
    "    for quant_name, _ in QUANTIZATIONS:\n",
    "        base_name = f'geoSSL-{dset}-center_eig_proj{psz}-quantize_{quant_name}'\n",
    "        data_path = f'data/comp/{base_name}.pt'\n",
    "        comp_model_path = f'compress_models/{base_name}.pt'.replace(dset, 'fmow')\n",
    "\n",
    "        data = torch.load(data_path)\n",
    "        X_tr_comp = data['train']['Z']\n",
    "        y_tr_apx = data['train']['y']\n",
    "        X_te_comp = data['test']['Z']\n",
    "        y_te_apx = data['test']['y']\n",
    "        \n",
    "        comp_model = torch.load(comp_model_path)\n",
    "        X_tr_apx = approx_from_quantized_projection(X_tr_comp, comp_model)\n",
    "        X_te_apx = approx_from_quantized_projection(X_te_comp, comp_model)\n",
    "        \n",
    "        z_dim = X_tr_apx.shape[-1]\n",
    "        model = MultiLayerMLP(dims=[z_dim, 2048, 1024, 62], dropouts=[.5,.5])\n",
    "        run_name = base_name+'-mlp'\n",
    "        run_training(X_tr_apx, y_tr_apx, X_te_apx, y_te_apx, run_name=run_name, cfg=cfg, model=model)"
   ]
  },
  {
   "cell_type": "markdown",
   "metadata": {},
   "source": [
    "# autoencoder"
   ]
  },
  {
   "cell_type": "code",
   "execution_count": 10,
   "metadata": {},
   "outputs": [],
   "source": [
    "def encode_data(X, ae_model, bsz=256, device='cuda:0'):\n",
    "    X_enc = []\n",
    "    ae_model.to(device)\n",
    "    ae_model.eval()\n",
    "    with torch.no_grad():\n",
    "        for i in range(0, len(X), bsz):\n",
    "            batch = X[i:i+bsz].to(device)\n",
    "            X_enc.append(ae_model.encode(batch).cpu())\n",
    "        X_enc = torch.cat(X_enc, dim=0)\n",
    "        return X_enc\n",
    "\n",
    "def decode_data(X_enc, ae_model, bsz=256, device='cuda:0'):\n",
    "    X_dec = []\n",
    "    ae_model.to(device)\n",
    "    ae_model.eval()\n",
    "    with torch.no_grad():\n",
    "        for i in range(0, len(X_enc), bsz):\n",
    "            batch = X_enc[i:i+bsz].to(device)\n",
    "            X_dec.append(ae_model.decode(batch).cpu())\n",
    "        X_dec = torch.cat(X_dec, dim=0)\n",
    "        return X_dec"
   ]
  },
  {
   "cell_type": "code",
   "execution_count": 11,
   "metadata": {},
   "outputs": [],
   "source": [
    "bottlenecks = [200]"
   ]
  },
  {
   "cell_type": "markdown",
   "metadata": {
    "jp-MarkdownHeadingCollapsed": true,
    "tags": []
   },
   "source": [
    "## run ae training"
   ]
  },
  {
   "cell_type": "code",
   "execution_count": 9,
   "metadata": {},
   "outputs": [],
   "source": [
    "ae_cfg = DotDict(\n",
    "        n_epochs=60,\n",
    "        lr=1e-4,\n",
    "        wd=0,\n",
    "        bsz=256,\n",
    "        device='cuda:0'\n",
    ")"
   ]
  },
  {
   "cell_type": "code",
   "execution_count": null,
   "metadata": {
    "scrolled": true,
    "tags": []
   },
   "outputs": [
    {
     "name": "stdout",
     "output_type": "stream",
     "text": [
      "prepping for training\n",
      "starting training\n"
     ]
    },
    {
     "data": {
      "text/html": [
       "wandb version 0.13.11 is available!  To upgrade, please run:\n",
       " $ pip install wandb --upgrade"
      ],
      "text/plain": [
       "<IPython.core.display.HTML object>"
      ]
     },
     "metadata": {},
     "output_type": "display_data"
    },
    {
     "data": {
      "text/html": [
       "Tracking run with wandb version 0.13.5"
      ],
      "text/plain": [
       "<IPython.core.display.HTML object>"
      ]
     },
     "metadata": {},
     "output_type": "display_data"
    },
    {
     "data": {
      "text/html": [
       "Run data is saved locally in <code>/atlas2/u/clcp/vector_compress/wandb/run-20230314_142512-1ndvkohx</code>"
      ],
      "text/plain": [
       "<IPython.core.display.HTML object>"
      ]
     },
     "metadata": {},
     "output_type": "display_data"
    },
    {
     "data": {
      "text/html": [
       "Syncing run <strong><a href=\"https://wandb.ai/cpolzak/ee269_final/runs/1ndvkohx\" target=\"_blank\">fmow_trained_ae-2048_1024_200</a></strong> to <a href=\"https://wandb.ai/cpolzak/ee269_final\" target=\"_blank\">Weights & Biases</a> (<a href=\"https://wandb.me/run\" target=\"_blank\">docs</a>)<br/>"
      ],
      "text/plain": [
       "<IPython.core.display.HTML object>"
      ]
     },
     "metadata": {},
     "output_type": "display_data"
    },
    {
     "name": "stderr",
     "output_type": "stream",
     "text": [
      "best=0.000: 41%|██████████████████████████████████████████████████▉                                                                          |39867/97740"
     ]
    }
   ],
   "source": [
    "z_dim = X_tr.shape[-1]\n",
    "dims = [z_dim, 1024, 0]\n",
    "for bn_dim in bottlenecks:\n",
    "    dims[-1] = bn_dim\n",
    "    ae_cfg.arch = '_'.join([str(d) for d in dims])\n",
    "    dropouts = .2\n",
    "    model = MLPAutoEncoder(dims=dims, dropouts=dropouts)\n",
    "    run_name = f'fmow_trained_ae-{ae_cfg.arch}'\n",
    "    run_ae_training(X_tr, X_te, model, run_name=run_name, cfg=ae_cfg)"
   ]
  },
  {
   "cell_type": "markdown",
   "metadata": {},
   "source": [
    "## extract compressed features"
   ]
  },
  {
   "cell_type": "code",
   "execution_count": 12,
   "metadata": {
    "tags": []
   },
   "outputs": [
    {
     "name": "stdout",
     "output_type": "stream",
     "text": [
      "saved data\n"
     ]
    }
   ],
   "source": [
    "# TEMP\n",
    "path = 'fmow_trained_ae-2048_1024_200'\n",
    "savename = 'geoSSL-ucmerced-ae_2048_1024_200'\n",
    "comp_model = MLPAutoEncoder(dims=[2048, 1024, 200], dropouts=0.5)\n",
    "state = torch.load(f'compress_models/{path}.pt')\n",
    "comp_model.load_state_dict(state)\n",
    "X_tr_enc = encode_data(X_tr, comp_model, bsz=256, device='cuda:0')\n",
    "X_te_enc = encode_data(X_te, comp_model, bsz=256, device='cuda:0')\n",
    "# assert X_tr_enc.shape[-1] == bn_dim\n",
    "comp_data = {\n",
    "    'train':{\n",
    "        'Z': X_tr_enc,\n",
    "        'y': y_tr\n",
    "    },\n",
    "    'test': {\n",
    "        'Z': X_te_enc,\n",
    "        'y': y_te\n",
    "    }\n",
    "}\n",
    "torch.save(comp_data, f'data/comp/{savename}.pt')\n",
    "X_tr_dec = decode_data(X_tr_enc, comp_model, bsz=256, device='cuda:0')\n",
    "X_te_dec = decode_data(X_te_enc, comp_model, bsz=256, device='cuda:0')\n",
    "decomp_data = {\n",
    "    'train':{\n",
    "        'Z': X_tr_dec,\n",
    "        'y': y_tr\n",
    "    },\n",
    "    'test': {\n",
    "        'Z': X_te_dec,\n",
    "        'y': y_te\n",
    "    }\n",
    "}\n",
    "torch.save(decomp_data, f'data/decomp/{savename}.pt')\n",
    "print(f'saved data')"
   ]
  },
  {
   "cell_type": "code",
   "execution_count": null,
   "metadata": {},
   "outputs": [
    {
     "name": "stdout",
     "output_type": "stream",
     "text": [
      "saved bn150 data\n",
      "saved bn100 data\n",
      "saved bn50 data\n"
     ]
    }
   ],
   "source": [
    "for bn_dim in bottlenecks:\n",
    "    comp_model = MLPAutoEncoder(dims=[2048, 1024, bn_dim], dropouts=0.2)\n",
    "    state = torch.load(f'compress_models/fmow_trained_ae-bn{bn_dim}.pt')\n",
    "    comp_model.load_state_dict(state)\n",
    "    X_tr_enc = encode_data(X_tr, comp_model, bsz=256, device='cuda:0')\n",
    "    X_te_enc = encode_data(X_te, comp_model, bsz=256, device='cuda:0')\n",
    "    assert X_tr_enc.shape[-1] == bn_dim\n",
    "    comp_data = {\n",
    "        'train':{\n",
    "            'Z': X_tr_enc,\n",
    "            'y': y_tr\n",
    "        },\n",
    "        'test': {\n",
    "            'Z': X_te_enc,\n",
    "            'y': y_te\n",
    "        }\n",
    "    }\n",
    "    torch.save(comp_data, f'data/comp/geoSSL-fmow-ae_bn{bn_dim}.pt')\n",
    "    X_tr_dec = decode_data(X_tr_enc, comp_model, bsz=256, device='cuda:0')\n",
    "    X_te_dec = decode_data(X_te_enc, comp_model, bsz=256, device='cuda:0')\n",
    "    decomp_data = {\n",
    "        'train':{\n",
    "            'Z': X_tr_dec,\n",
    "            'y': y_tr\n",
    "        },\n",
    "        'test': {\n",
    "            'Z': X_te_dec,\n",
    "            'y': y_te\n",
    "        }\n",
    "    }\n",
    "    torch.save(decomp_data, f'data/decomp/geoSSL-fmow-ae_bn{bn_dim}.pt')\n",
    "    print(f'saved bn{bn_dim} data')"
   ]
  },
  {
   "cell_type": "markdown",
   "metadata": {
    "tags": []
   },
   "source": [
    "## classify on compressed version"
   ]
  },
  {
   "cell_type": "code",
   "execution_count": 15,
   "metadata": {
    "tags": []
   },
   "outputs": [
    {
     "name": "stdout",
     "output_type": "stream",
     "text": [
      "prepping for training\n",
      "starting training\n"
     ]
    },
    {
     "data": {
      "text/html": [
       "wandb version 0.14.0 is available!  To upgrade, please run:\n",
       " $ pip install wandb --upgrade"
      ],
      "text/plain": [
       "<IPython.core.display.HTML object>"
      ]
     },
     "metadata": {},
     "output_type": "display_data"
    },
    {
     "data": {
      "text/html": [
       "Tracking run with wandb version 0.13.5"
      ],
      "text/plain": [
       "<IPython.core.display.HTML object>"
      ]
     },
     "metadata": {},
     "output_type": "display_data"
    },
    {
     "data": {
      "text/html": [
       "Run data is saved locally in <code>/atlas2/u/clcp/vector_compress/wandb/run-20230314_220157-31cjmsnz</code>"
      ],
      "text/plain": [
       "<IPython.core.display.HTML object>"
      ]
     },
     "metadata": {},
     "output_type": "display_data"
    },
    {
     "data": {
      "text/html": [
       "Syncing run <strong><a href=\"https://wandb.ai/cpolzak/ee269_final/runs/31cjmsnz\" target=\"_blank\">geoSSL-ucmerced-ae_2048_1024_200-23_03_14-22_01</a></strong> to <a href=\"https://wandb.ai/cpolzak/ee269_final\" target=\"_blank\">Weights & Biases</a> (<a href=\"https://wandb.me/run\" target=\"_blank\">docs</a>)<br/>"
      ],
      "text/plain": [
       "<IPython.core.display.HTML object>"
      ]
     },
     "metadata": {},
     "output_type": "display_data"
    },
    {
     "name": "stderr",
     "output_type": "stream",
     "text": [
      "best=0.929: 100%|██████████████████████████████████████████████████████████████████████████████████████████████████████████████████████████████|7000/7000\n"
     ]
    },
    {
     "data": {
      "text/html": [
       "Waiting for W&B process to finish... <strong style=\"color:green\">(success).</strong>"
      ],
      "text/plain": [
       "<IPython.core.display.HTML object>"
      ]
     },
     "metadata": {},
     "output_type": "display_data"
    },
    {
     "data": {
      "text/html": [
       "<style>\n",
       "    table.wandb td:nth-child(1) { padding: 0 10px; text-align: left ; width: auto;} td:nth-child(2) {text-align: left ; width: 100%}\n",
       "    .wandb-row { display: flex; flex-direction: row; flex-wrap: wrap; justify-content: flex-start; width: 100% }\n",
       "    .wandb-col { display: flex; flex-direction: column; flex-basis: 100%; flex: 1; padding: 10px; }\n",
       "    </style>\n",
       "<div class=\"wandb-row\"><div class=\"wandb-col\"><h3>Run history:</h3><br/><table class=\"wandb\"><tr><td>best_val acc</td><td>▁</td></tr><tr><td>train acc</td><td>▁▄▆▇▇▇▇▇▇▇██████████████████████████████</td></tr><tr><td>train loss</td><td>█▇▆▆▅▅▄▄▄▃▃▃▃▃▂▂▂▂▂▂▂▂▂▂▂▁▁▁▁▁▁▁▁▁▁▁▁▁▁▁</td></tr><tr><td>val acc</td><td>▁▄▆▇▇▇▇█████████████████████████████████</td></tr><tr><td>val loss</td><td>█▇▆▆▅▅▄▄▄▃▃▃▃▃▂▂▂▂▂▂▂▂▂▂▂▁▁▁▁▁▁▁▁▁▁▁▁▁▁▁</td></tr></table><br/></div><div class=\"wandb-col\"><h3>Run summary:</h3><br/><table class=\"wandb\"><tr><td>best_val acc</td><td>0.92857</td></tr><tr><td>train acc</td><td>0.96905</td></tr><tr><td>train loss</td><td>0.303</td></tr><tr><td>val acc</td><td>0.92857</td></tr><tr><td>val loss</td><td>0.40063</td></tr></table><br/></div></div>"
      ],
      "text/plain": [
       "<IPython.core.display.HTML object>"
      ]
     },
     "metadata": {},
     "output_type": "display_data"
    },
    {
     "data": {
      "text/html": [
       "Synced <strong style=\"color:#cdcd00\">geoSSL-ucmerced-ae_2048_1024_200-23_03_14-22_01</strong>: <a href=\"https://wandb.ai/cpolzak/ee269_final/runs/31cjmsnz\" target=\"_blank\">https://wandb.ai/cpolzak/ee269_final/runs/31cjmsnz</a><br/>Synced 5 W&B file(s), 0 media file(s), 0 artifact file(s) and 0 other file(s)"
      ],
      "text/plain": [
       "<IPython.core.display.HTML object>"
      ]
     },
     "metadata": {},
     "output_type": "display_data"
    },
    {
     "data": {
      "text/html": [
       "Find logs at: <code>./wandb/run-20230314_220157-31cjmsnz/logs</code>"
      ],
      "text/plain": [
       "<IPython.core.display.HTML object>"
      ]
     },
     "metadata": {},
     "output_type": "display_data"
    }
   ],
   "source": [
    "cfg.compress_type = f'ae_bn200'\n",
    "data_path = f'data/decomp/geoSSL-ucmerced-ae_2048_1024_200.pt'\n",
    "data = torch.load(data_path)\n",
    "X_tr_apx = data['train']['Z']\n",
    "y_tr_apx = data['train']['y']\n",
    "X_te_apx = data['test']['Z']\n",
    "y_te_apx = data['test']['y']\n",
    "\n",
    "# z_dim = X_tr_apx.shape[-1]\n",
    "model = None# MultiLayerMLP(dims=[z_dim, 2048, 1024, 62], dropouts=[.5,.5])\n",
    "\n",
    "run_name = 'geoSSL-ucmerced-ae_2048_1024_200'\n",
    "run_training(X_tr_apx, y_tr_apx, X_te_apx, y_te_apx, run_name=run_name, cfg=cfg, model=model)"
   ]
  },
  {
   "cell_type": "code",
   "execution_count": null,
   "metadata": {
    "scrolled": true,
    "tags": []
   },
   "outputs": [
    {
     "name": "stdout",
     "output_type": "stream",
     "text": [
      "prepping for training\n",
      "starting training\n"
     ]
    },
    {
     "name": "stderr",
     "output_type": "stream",
     "text": [
      "\u001b[34m\u001b[1mwandb\u001b[0m: Currently logged in as: \u001b[33mcpolzak\u001b[0m. Use \u001b[1m`wandb login --relogin`\u001b[0m to force relogin\n"
     ]
    },
    {
     "data": {
      "text/html": [
       "wandb version 0.13.11 is available!  To upgrade, please run:\n",
       " $ pip install wandb --upgrade"
      ],
      "text/plain": [
       "<IPython.core.display.HTML object>"
      ]
     },
     "metadata": {},
     "output_type": "display_data"
    },
    {
     "data": {
      "text/html": [
       "Tracking run with wandb version 0.13.5"
      ],
      "text/plain": [
       "<IPython.core.display.HTML object>"
      ]
     },
     "metadata": {},
     "output_type": "display_data"
    },
    {
     "data": {
      "text/html": [
       "Run data is saved locally in <code>/atlas2/u/clcp/vector_compress/wandb/run-20230314_135258-1dxkyfyo</code>"
      ],
      "text/plain": [
       "<IPython.core.display.HTML object>"
      ]
     },
     "metadata": {},
     "output_type": "display_data"
    },
    {
     "data": {
      "text/html": [
       "Syncing run <strong><a href=\"https://wandb.ai/cpolzak/ee269_final/runs/1dxkyfyo\" target=\"_blank\">geoSSL-fmow-ae_bn150-23_03_14-13_52</a></strong> to <a href=\"https://wandb.ai/cpolzak/ee269_final\" target=\"_blank\">Weights & Biases</a> (<a href=\"https://wandb.me/run\" target=\"_blank\">docs</a>)<br/>"
      ],
      "text/plain": [
       "<IPython.core.display.HTML object>"
      ]
     },
     "metadata": {},
     "output_type": "display_data"
    },
    {
     "name": "stderr",
     "output_type": "stream",
     "text": [
      "best=0.627: 62%|████████████████████████████████████████████████████████████████████████████▍                                              |101217/162900"
     ]
    }
   ],
   "source": [
    "for bn_dim in bottlenecks:\n",
    "    cfg.compress_type = f'ae_bn{bn_dim}'\n",
    "    base_name = f'geoSSL-fmow-{cfg.compress_type}'\n",
    "    data_path = f'data/decomp/{base_name}.pt'\n",
    "    data = torch.load(data_path)\n",
    "    X_tr_apx = data['train']['Z']\n",
    "    y_tr_apx = data['train']['y']\n",
    "    X_te_apx = data['test']['Z']\n",
    "    y_te_apx = data['test']['y']\n",
    "\n",
    "    # z_dim = X_tr_apx.shape[-1]\n",
    "    model = None#MultiLayerMLP(dims=[z_dim, 2048, 1024, 62], dropouts=[.5,.5])\n",
    "\n",
    "    run_name = base_name#+'-mlp2'\n",
    "    run_training(X_tr_apx, y_tr_apx, X_te_apx, y_te_apx, run_name=run_name, cfg=cfg, model=model)"
   ]
  },
  {
   "cell_type": "code",
   "execution_count": null,
   "metadata": {},
   "outputs": [],
   "source": []
  }
 ],
 "metadata": {
  "kernelspec": {
   "display_name": "mae",
   "language": "python",
   "name": "mae"
  },
  "language_info": {
   "codemirror_mode": {
    "name": "ipython",
    "version": 3
   },
   "file_extension": ".py",
   "mimetype": "text/x-python",
   "name": "python",
   "nbconvert_exporter": "python",
   "pygments_lexer": "ipython3",
   "version": "3.9.15"
  }
 },
 "nbformat": 4,
 "nbformat_minor": 4
}
